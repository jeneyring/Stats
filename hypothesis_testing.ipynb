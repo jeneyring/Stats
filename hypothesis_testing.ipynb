{
 "cells": [
  {
   "cell_type": "markdown",
   "id": "0933e589",
   "metadata": {},
   "source": [
    "### Warm-up Exercises:\n",
    "\n",
    "For each of the following questions, formulate a null and alternative hypothesis (be as specific as you can be), then give an example of what a true positive, true negative, type I and type II errors would look like. Note that some of the questions are intentionally phrased in a vague way. It is your job to reword these as more precise questions that could be tested."
   ]
  },
  {
   "cell_type": "markdown",
   "id": "4dc31a65",
   "metadata": {},
   "source": [
    "#### - Has the network latency gone up since we switched internet service providers?\n"
   ]
  },
  {
   "cell_type": "markdown",
   "id": "98ede683",
   "metadata": {},
   "source": [
    "- H(null) hypothesis: There's no difference or latency decreased in network speed since switching one company to the next.\n",
    "    \n",
    "- H(a) hypothesis: There is an increase in latency since switching from one company to the next.\n",
    "\n",
    "- True Negative Type 1 Error example: We reject the H(null) that there is no difference of latency, when there really is.\n",
    "\n",
    "- False Negative Type 2 Error example: We fail to reject the H(null), by saying that there is a speed difference but the reality is that we also had added 1,000 more computers to the network too and THAT was why the speed decreased...not the network. \n",
    "\n",
    "- True Positive: I determined that the network latency has increased and it has.\n",
    "\n",
    "- True Negative: I determined that the network latency has decreased or is no different, and it is true.\n"
   ]
  },
  {
   "cell_type": "markdown",
   "id": "c50ce9ce",
   "metadata": {},
   "source": [
    " { This example would be determined by a <b> Paired t-test</b>.  Where we look at our data under the previous condition and then look at the sample data under the current condition } "
   ]
  },
  {
   "cell_type": "markdown",
   "id": "a467163a",
   "metadata": {},
   "source": [
    "#### - Is the website redesign any good?"
   ]
  },
  {
   "cell_type": "markdown",
   "id": "b84d67eb",
   "metadata": {},
   "source": [
    "- <i>Rephrasing: What webpages are most customers engaged on and on avg, how long are they on our website?</i>"
   ]
  },
  {
   "cell_type": "markdown",
   "id": "200847ac",
   "metadata": {},
   "source": [
    "- H(null)hypothesis: There are no customers coming to the website and engaging.\n",
    "    \n",
    "- H(a)hypothesis: There are x amount of customers that are on our webpages an average x amount of time AND navigating throughout pages.\n",
    "    \n",
    "- Type 1 error example: We say \"Yes, we have x amount of customers visitng for x amount of time\", but find that the IP addresses vists are bots.\n",
    "    \n",
    "- Type 2 error example: We say \"No-one is coming to our site, or the wanted engagement isn't being met\" and do not take into account that we are only testing on weekend days.\n",
    "\n",
    "- True Positive: I determined that there was an increase of number of daily visits and it has.\n",
    "\n",
    "- True Negative: I determined that there was no change (or a decrease) in the number of daily visits and it has"
   ]
  },
  {
   "cell_type": "markdown",
   "id": "4ade57fb",
   "metadata": {},
   "source": [
    "{Think about the number of confounding factors that might drive changes to a websites activity beyond a simple redesign. (like when, why, how of changing a website)\n",
    "\n",
    "Sometimes perfect comparisons are not achievable in the rapidly changing business world.\n",
    "\n",
    "We need to understand that as data scientists, we need to NOT claim \"this has increased due to ___\", but rather saying \"the data shows that there is a relationship that shows an increase after the website redesign\"...because we really don't know the causality until further experiments.}"
   ]
  },
  {
   "cell_type": "markdown",
   "id": "5c8eeb1f",
   "metadata": {},
   "source": [
    "#### - Is our television ad driving more sales?"
   ]
  },
  {
   "cell_type": "markdown",
   "id": "bada31a5",
   "metadata": {},
   "source": [
    "- <i> Rephrasing: Have we since seen an increase of sales since our tv ad has aired? How can we determine where our customers are coming from?\n",
    "    \n",
    "- H(null)hypothesis: There is no increase in sales since our ad aired.\n",
    "    \n",
    "-H(a)hypothesis: We have made x amount of sales since our ad aired date, AND we can track that the sales are directly related to the tv ad.\n",
    "    \n",
    "- True Negative example: I determine sales volume has stayed the same or decreased and it has.\n",
    "    \n",
    "- True Positive: I determine sales volume has increased and it did.\n",
    "    \n",
    "- Type 1 Error: I determine sales volume has increased when it actually decreased.\n",
    "    \n",
    "- Type 2 Error: I determine sales volume has decreased when it has actualy increased."
   ]
  },
  {
   "cell_type": "code",
   "execution_count": null,
   "id": "8a5170a5",
   "metadata": {},
   "outputs": [],
   "source": []
  }
 ],
 "metadata": {
  "kernelspec": {
   "display_name": "Python 3 (ipykernel)",
   "language": "python",
   "name": "python3"
  },
  "language_info": {
   "codemirror_mode": {
    "name": "ipython",
    "version": 3
   },
   "file_extension": ".py",
   "mimetype": "text/x-python",
   "name": "python",
   "nbconvert_exporter": "python",
   "pygments_lexer": "ipython3",
   "version": "3.9.7"
  }
 },
 "nbformat": 4,
 "nbformat_minor": 5
}
