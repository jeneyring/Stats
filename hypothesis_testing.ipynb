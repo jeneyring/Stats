{
 "cells": [
  {
   "cell_type": "markdown",
   "id": "8225392e",
   "metadata": {},
   "source": [
    "### Warm-up Exercises:\n",
    "\n",
    "For each of the following questions, formulate a null and alternative hypothesis (be as specific as you can be), then give an example of what a true positive, true negative, type I and type II errors would look like. Note that some of the questions are intentionally phrased in a vague way. It is your job to reword these as more precise questions that could be tested."
   ]
  },
  {
   "cell_type": "markdown",
   "id": "2ba07dd0",
   "metadata": {},
   "source": [
    "#### - Has the network latency gone up since we switched internet service providers?\n"
   ]
  },
  {
   "cell_type": "markdown",
   "id": "c552ae89",
   "metadata": {},
   "source": [
    "- H(null) hypothesis: There's no difference or latency decreased in network speed since switching one company to the next.\n",
    "    \n",
    "- H(a) hypothesis: There is an increase in latency since switching from one company to the next.\n",
    "\n",
    "- True Negative Type 1 Error example: We reject the H(null) that there is no difference of latency, when there really is.\n",
    "\n",
    "- False Negative Type 2 Error example: We fail to reject the H(null), by saying that there is a speed difference but the reality is that we also had added 1,000 more computers to the network too and THAT was why the speed decreased...not the network. \n",
    "\n",
    "- True Positive: I determined that the network latency has increased and it has.\n",
    "\n",
    "- True Negative: I determined that the network latency has decreased or is no different, and it is true.\n"
   ]
  },
  {
   "cell_type": "markdown",
   "id": "82f51342",
   "metadata": {},
   "source": [
    " { This example would be determined by a <b> Paired t-test</b>.  Where we look at our data under the previous condition and then look at the sample data under the current condition } "
   ]
  },
  {
   "cell_type": "markdown",
   "id": "0a7f20c7",
   "metadata": {},
   "source": [
    "#### - Is the website redesign any good?"
   ]
  },
  {
   "cell_type": "markdown",
   "id": "2ded6f54",
   "metadata": {},
   "source": [
    "- <i>Rephrasing: What webpages are most customers engaged on and on avg, how long are they on our website?</i>"
   ]
  },
  {
   "cell_type": "markdown",
   "id": "088bc345",
   "metadata": {},
   "source": [
    "- H(null)hypothesis: There are no customers coming to the website and engaging.\n",
    "    \n",
    "- H(a)hypothesis: There are x amount of customers that are on our webpages an average x amount of time AND navigating throughout pages.\n",
    "    \n",
    "- Type 1 error example: We say \"Yes, we have x amount of customers visitng for x amount of time\", but find that the IP addresses vists are bots.\n",
    "    \n",
    "- Type 2 error example: We say \"No-one is coming to our site, or the wanted engagement isn't being met\" and do not take into account that we are only testing on weekend days.\n",
    "\n",
    "- True Positive: I determined that there was an increase of number of daily visits and it has.\n",
    "\n",
    "- True Negative: I determined that there was no change (or a decrease) in the number of daily visits and it has"
   ]
  },
  {
   "cell_type": "markdown",
   "id": "757d2305",
   "metadata": {},
   "source": [
    "{Think about the number of confounding factors that might drive changes to a websites activity beyond a simple redesign. (like when, why, how of changing a website)\n",
    "\n",
    "Sometimes perfect comparisons are not achievable in the rapidly changing business world.\n",
    "\n",
    "We need to understand that as data scientists, we need to NOT claim \"this has increased due to ___\", but rather saying \"the data shows that there is a relationship that shows an increase after the website redesign\"...because we really don't know the causality until further experiments.}"
   ]
  },
  {
   "cell_type": "markdown",
   "id": "371925b8",
   "metadata": {},
   "source": [
    "#### - Is our television ad driving more sales?"
   ]
  },
  {
   "cell_type": "markdown",
   "id": "22178ded",
   "metadata": {},
   "source": [
    "- <i> Rephrasing: Have we since seen an increase of sales since our tv ad has aired? How can we determine where our customers are coming from?\n",
    "    \n",
    "- H(null)hypothesis: There is no increase in sales since our ad aired.\n",
    "    \n",
    "-H(a)hypothesis: We have made x amount of sales since our ad aired date, AND we can track that the sales are directly related to the tv ad.\n",
    "    \n",
    "- True Negative example: I determine sales volume has stayed the same or decreased and it has.\n",
    "    \n",
    "- True Positive: I determine sales volume has increased and it did.\n",
    "    \n",
    "- Type 1 Error: I determine sales volume has increased when it actually decreased.\n",
    "    \n",
    "- Type 2 Error: I determine sales volume has decreased when it has actualy increased."
   ]
  },
  {
   "cell_type": "markdown",
   "id": "10180096",
   "metadata": {},
   "source": [
    " ____________________________________________________"
   ]
  },
  {
   "cell_type": "markdown",
   "id": "d10b56bd",
   "metadata": {},
   "source": [
    "## Exercises : T-test"
   ]
  },
  {
   "cell_type": "markdown",
   "id": "0c0fc020",
   "metadata": {},
   "source": [
    "### Exercise One:\n",
    "\n",
    "Ace Realty wants to determine whether the average time it takes to sell homes is different for its two offices. \n",
    "\n",
    "A sample of 40 sales from office #1 revealed a mean of 90 days and a standard deviation of 15 days. \n",
    "A sample of 50 sales from office #2 revealed a mean of 100 days and a standard deviation of 20 days. \n",
    "Use a .05 level of significance."
   ]
  },
  {
   "cell_type": "code",
   "execution_count": 1,
   "id": "46330c84",
   "metadata": {},
   "outputs": [],
   "source": [
    "import numpy as np\n",
    "import seaborn as sns\n",
    "import scipy.stats as stats\n",
    "import pandas as pd\n",
    "import matplotlib.pyplot as plt\n",
    "import env\n",
    "\n",
    "𝛼  = 0.05\n",
    "\n",
    "#office1\n",
    "mean1 = 90\n",
    "sdev1 = 15\n",
    "ssize1 = 40\n",
    "\n",
    "#office2\n",
    "mean2 = 100\n",
    "sdev2 = 20\n",
    "ssize2 = 50"
   ]
  },
  {
   "cell_type": "markdown",
   "id": "b85a774a",
   "metadata": {},
   "source": [
    "### What are we comparing?\n",
    "\n",
    "- average time (numberic continuous values)for two different groups(categories)\n",
    "- One sample or two?\n",
    "- One tailed or two tailed?\n"
   ]
  },
  {
   "cell_type": "code",
   "execution_count": null,
   "id": "e57d9acb",
   "metadata": {},
   "outputs": [],
   "source": [
    "# H_0: Average time to sell at office 1 == average time to sell at office 2\n",
    "#H_a: Average time to sell at office 1 != average time to sell at office 2\n",
    "t,p=stats.stats.ttest_ind_from_stats(mean1, sdev1, ssize1, mean2, sdev2, ssize2, equal_var=True)"
   ]
  },
  {
   "cell_type": "code",
   "execution_count": null,
   "id": "dc94a704",
   "metadata": {},
   "outputs": [],
   "source": [
    "alpha = 0.05"
   ]
  },
  {
   "cell_type": "code",
   "execution_count": null,
   "id": "3114a7e9",
   "metadata": {},
   "outputs": [],
   "source": [
    "# visualize distributions\n",
    "\n",
    "x = np.arange(50,150)\n",
    "\n",
    "y1 = stats.norm(90, 15).pdf(x)\n",
    "y1 = stats.norm(100, 20).pdf(x)\n",
    "\n"
   ]
  },
  {
   "cell_type": "code",
   "execution_count": null,
   "id": "bab02664",
   "metadata": {},
   "outputs": [],
   "source": [
    "t, p = stats.ttest_ind_from_stats(90,15,40,100,20,50, equal_var=False)\n",
    "t,p"
   ]
  },
  {
   "cell_type": "code",
   "execution_count": null,
   "id": "ecbc9ec1",
   "metadata": {},
   "outputs": [],
   "source": [
    "if (p < alpha ):\n",
    "    print (\"We reject the null hypothesis!\")\n",
    "else:\n",
    "    print(\"We accept the null hypothesis!\")"
   ]
  },
  {
   "cell_type": "markdown",
   "id": "c711d305",
   "metadata": {},
   "source": [
    "### Exercise Two:\n",
    "Load the mpg dataset and use it to answer the following questions:\n",
    "\n",
    "Is there a difference in fuel-efficiency in cars from 2008 vs 1999?\n",
    "Are compact cars more fuel-efficient than the average car?\n",
    "Do manual cars get better gas mileage than automatic cars?"
   ]
  },
  {
   "cell_type": "code",
   "execution_count": null,
   "id": "4c5fb273",
   "metadata": {},
   "outputs": [],
   "source": [
    "from pydataset import data\n",
    "mpg = data('mpg')"
   ]
  },
  {
   "cell_type": "code",
   "execution_count": null,
   "id": "af93494f",
   "metadata": {},
   "outputs": [],
   "source": [
    "mpg"
   ]
  },
  {
   "cell_type": "code",
   "execution_count": null,
   "id": "640846f5",
   "metadata": {},
   "outputs": [],
   "source": [
    "#H_0: There is no difference in fuel efficiency in cars from 2008 and 1999\n",
    "#H-a: There is a difference in fuel efficiency in cars from 2008 and 1999"
   ]
  },
  {
   "cell_type": "code",
   "execution_count": null,
   "id": "10a178ef",
   "metadata": {},
   "outputs": [],
   "source": [
    "How should we measure \"fuel-efficiency\"?\n",
    "Two approaches:\n",
    "    - Run two ttests: one for highway and one for city\n",
    "    - "
   ]
  },
  {
   "cell_type": "code",
   "execution_count": null,
   "id": "d64ca8f7",
   "metadata": {},
   "outputs": [],
   "source": [
    "mpg"
   ]
  },
  {
   "cell_type": "code",
   "execution_count": null,
   "id": "9cde9f56",
   "metadata": {},
   "outputs": [],
   "source": [
    "#getting two ojects based on year\n",
    "cars_2008 = mpg[mpg.year == 2008]\n",
    "cars_1999 = mpg[mpg.year == 1999]"
   ]
  },
  {
   "cell_type": "code",
   "execution_count": null,
   "id": "7315c400",
   "metadata": {},
   "outputs": [],
   "source": [
    "cars_1999.hist()"
   ]
  },
  {
   "cell_type": "code",
   "execution_count": null,
   "id": "d93c7d36",
   "metadata": {},
   "outputs": [],
   "source": [
    "#finding the average number of hwy & cty combined\n",
    "\n",
    "avg_hwy= mpg.hwy.mean()\n",
    "\n",
    "avg_cty = mpg.cty.mean()\n",
    "\n",
    "avg_mpg = avg_hwy + avg_cty\n",
    "\n",
    "avg_mpg"
   ]
  },
  {
   "cell_type": "code",
   "execution_count": null,
   "id": "61a1ec94",
   "metadata": {},
   "outputs": [],
   "source": [
    "combined_mpg= mpg.hwy + mpg.cty"
   ]
  },
  {
   "cell_type": "code",
   "execution_count": null,
   "id": "51c397a1",
   "metadata": {},
   "outputs": [],
   "source": [
    "#new column for combined mpg\n",
    "mpg['Combined MPG'] = mpg.hwy + mpg.cty\n",
    "mpg"
   ]
  },
  {
   "cell_type": "code",
   "execution_count": null,
   "id": "c9782b6e",
   "metadata": {},
   "outputs": [],
   "source": [
    "#find 2008 fuel efficient cars (above the avg mpg)\n",
    "cars_2008 = mpg[(mpg.year == 2008) & (mpg['Combined MPG'] >= 40)]\n",
    "cars_2008['Combined MPG'].value_counts()"
   ]
  },
  {
   "cell_type": "code",
   "execution_count": null,
   "id": "bf09976d",
   "metadata": {},
   "outputs": [],
   "source": [
    "cars_1999 = mpg[(mpg.year == 1999) & (mpg['Combined MPG'] >= 40)]"
   ]
  },
  {
   "cell_type": "code",
   "execution_count": null,
   "id": "72c7ad46",
   "metadata": {},
   "outputs": [],
   "source": [
    "cars_1999.var(), cars_2008.var()"
   ]
  },
  {
   "cell_type": "code",
   "execution_count": null,
   "id": "25cea7e3",
   "metadata": {},
   "outputs": [],
   "source": [
    "t, p = stats.ttest_ind(cars_1999, cars_2008, equal_var= True)"
   ]
  },
  {
   "cell_type": "markdown",
   "id": "35f35d3b",
   "metadata": {},
   "source": [
    "## Correlation Exercises:\n",
    "\n",
    "### Exercise 1)\n",
    "Use the telco_churn data. Does tenure correlate with monthly charges? Total charges? What happens if you control for phone and internet service?"
   ]
  },
  {
   "cell_type": "code",
   "execution_count": null,
   "id": "3ba352c3",
   "metadata": {},
   "outputs": [],
   "source": [
    "import pandas as pd\n",
    "import seaborn as sns\n",
    "import numpy as np\n",
    "import matplotlib as plt\n",
    "import scipy.stats as stats\n",
    "df = pd.read_csv(\"Copy of Jennifer Eyring - jemison_spreadsheet_exercises - Table1_Copy.csv\")"
   ]
  },
  {
   "cell_type": "code",
   "execution_count": null,
   "id": "eb433bb3",
   "metadata": {},
   "outputs": [],
   "source": [
    "df.head()"
   ]
  },
  {
   "cell_type": "code",
   "execution_count": null,
   "id": "a6c8eaf9",
   "metadata": {},
   "outputs": [],
   "source": [
    "#renamed to call on later\n",
    "df=df.rename(columns={\"Service Type\": \"service_type\"})\n",
    "df"
   ]
  },
  {
   "cell_type": "markdown",
   "id": "91ce6255",
   "metadata": {},
   "source": [
    "### Does Tenure relate to Monthly Charges?"
   ]
  },
  {
   "cell_type": "markdown",
   "id": "4f19b1fc",
   "metadata": {},
   "source": [
    "H0: There is no relation to Monthly charges and tenure\n",
    "Ha: There is a relation to Monthly charges and tenure"
   ]
  },
  {
   "cell_type": "code",
   "execution_count": null,
   "id": "d146e17a",
   "metadata": {},
   "outputs": [],
   "source": [
    "df.plot.scatter(y='monthly_charges', x='tenure')"
   ]
  },
  {
   "cell_type": "code",
   "execution_count": null,
   "id": "b7cc2bbd",
   "metadata": {},
   "outputs": [],
   "source": [
    "alpha = 0.05"
   ]
  },
  {
   "cell_type": "code",
   "execution_count": null,
   "id": "df24d1dc",
   "metadata": {},
   "outputs": [],
   "source": [
    "x = df.tenure\n",
    "y = df.monthly_charges"
   ]
  },
  {
   "cell_type": "code",
   "execution_count": null,
   "id": "be3d9826",
   "metadata": {},
   "outputs": [],
   "source": [
    "r, p = stats.pearsonr(x,y)\n",
    "r,p"
   ]
  },
  {
   "cell_type": "markdown",
   "id": "a70ac631",
   "metadata": {},
   "source": [
    "<b> Conclusion: There is a weak relationship between monthly charges and tenure but it is there.\n",
    "- Reject the null hypothesis</b>"
   ]
  },
  {
   "cell_type": "code",
   "execution_count": null,
   "id": "4aa850f7",
   "metadata": {},
   "outputs": [],
   "source": [
    "if p < alpha:\n",
    "    print('Reject the null hypothesis')\n",
    "else:\n",
    "    print('Fail to rejcet the null hypothesis')"
   ]
  },
  {
   "cell_type": "markdown",
   "id": "2c8a134c",
   "metadata": {},
   "source": [
    "### Does Tenure relate to Total Charges?"
   ]
  },
  {
   "cell_type": "code",
   "execution_count": null,
   "id": "905f2a12",
   "metadata": {},
   "outputs": [],
   "source": [
    "df.plot.scatter(y='total_charges', x='tenure')\n",
    "#visually, yes it looks like there might be a relationship between total and tenure"
   ]
  },
  {
   "cell_type": "code",
   "execution_count": null,
   "id": "4fdc4382",
   "metadata": {},
   "outputs": [],
   "source": [
    "x = df.tenure\n",
    "y = df.total_charges\n",
    "#to drop nulls, look at spaces needing to be replaced,drop na mehtod (subset dataframe for two variables)"
   ]
  },
  {
   "cell_type": "code",
   "execution_count": null,
   "id": "947457b7",
   "metadata": {},
   "outputs": [],
   "source": [
    "##cleaning data for any spaces...\n",
    "df['tenure']= df.tenure.replace(' ',np.nan)\n",
    "df['total_charges']= df.total_charges.replace(\" \",np.nan)"
   ]
  },
  {
   "cell_type": "code",
   "execution_count": null,
   "id": "8088a6ac",
   "metadata": {},
   "outputs": [],
   "source": [
    "df_xy=df[['tenure','total_charges','service_type']].dropna()\n",
    "df_xy"
   ]
  },
  {
   "cell_type": "code",
   "execution_count": null,
   "id": "55645eb6",
   "metadata": {},
   "outputs": [],
   "source": [
    "x=df_xy.tenure\n",
    "y=df_xy.total_charges"
   ]
  },
  {
   "cell_type": "code",
   "execution_count": null,
   "id": "b18ef337",
   "metadata": {},
   "outputs": [],
   "source": [
    "r, p = stats.pearsonr(x,y)\n",
    "r,p"
   ]
  },
  {
   "cell_type": "markdown",
   "id": "cd12f993",
   "metadata": {},
   "source": [
    "#### Conclusion: There is a strong positive correlation between tenure and total_charges"
   ]
  },
  {
   "cell_type": "code",
   "execution_count": null,
   "id": "4d0dc64d",
   "metadata": {},
   "outputs": [],
   "source": [
    "if p < alpha:\n",
    "    print('Reject the null hypothesis')\n",
    "else:\n",
    "    print('Fail to rejcet the null hypothesis')"
   ]
  },
  {
   "cell_type": "markdown",
   "id": "bc43d757",
   "metadata": {},
   "source": [
    "### What happens if I control for phone and internet service?"
   ]
  },
  {
   "cell_type": "code",
   "execution_count": null,
   "id": "b5f78346",
   "metadata": {},
   "outputs": [],
   "source": [
    "sns.relplot(data=df_xy, y='total_charges', x='tenure', col='service_type',height=8.27, aspect=11.7/8.27)"
   ]
  },
  {
   "cell_type": "code",
   "execution_count": null,
   "id": "4ec5f13b",
   "metadata": {},
   "outputs": [],
   "source": [
    "df_xy.value_counts('service_type')"
   ]
  },
  {
   "cell_type": "code",
   "execution_count": null,
   "id": "4539b990",
   "metadata": {},
   "outputs": [],
   "source": [
    "phone=df_xy[df_xy.service_type == 'Phone']\n",
    "Internet=df_xy[df_xy.service_type == 'Internet']"
   ]
  },
  {
   "cell_type": "code",
   "execution_count": null,
   "id": "99aa8119",
   "metadata": {},
   "outputs": [],
   "source": [
    "r, p = stats.pearsonr(phone.tenure, phone.total_charges)\n",
    "print('Phone Customers')\n",
    "print('  r =', r)\n",
    "print('  p =', p)"
   ]
  },
  {
   "cell_type": "code",
   "execution_count": null,
   "id": "cbdb62ed",
   "metadata": {},
   "outputs": [],
   "source": [
    "r, p = stats.pearsonr(Internet.tenure, Internet.total_charges)\n",
    "print('Internet Customers')\n",
    "print('  r =', r)\n",
    "print('  p =', p)"
   ]
  },
  {
   "cell_type": "markdown",
   "id": "1b0bd971",
   "metadata": {},
   "source": [
    "### Exercise 2)"
   ]
  },
  {
   "cell_type": "code",
   "execution_count": null,
   "id": "003ab88d",
   "metadata": {},
   "outputs": [],
   "source": [
    "import pandas as pd\n",
    "import env\n",
    "url = f'mysql+pymysql://{env.user}:{env.password}@{env.host}/employees'\n",
    "\n",
    "salaries = pd.read_sql('SELECT * FROM salaries', url)\n",
    "titles = pd.read_sql('SELECT * FROM titles', url)\n",
    "employees = pd.read_sql('SELECT * FROM employees', url)"
   ]
  },
  {
   "cell_type": "markdown",
   "id": "3d21f242",
   "metadata": {},
   "source": [
    "Use the employees database.\n",
    "- Is there a relationship between how long an employee has been with the company and their salary?"
   ]
  },
  {
   "cell_type": "code",
   "execution_count": null,
   "id": "561c57e4",
   "metadata": {},
   "outputs": [],
   "source": [
    "salaries.head()"
   ]
  },
  {
   "cell_type": "code",
   "execution_count": null,
   "id": "0f73f804",
   "metadata": {},
   "outputs": [],
   "source": [
    "df_salary = pd.concat([salaries, employees])\n",
    "df_salary"
   ]
  },
  {
   "cell_type": "code",
   "execution_count": null,
   "id": "1272743f",
   "metadata": {},
   "outputs": [],
   "source": [
    "df_salary = df_salary['hire_date']= df_salary.hire_date.replace('NaN',0)\n",
    "df_salary=df_salary[['hire_date']].dropna()"
   ]
  },
  {
   "cell_type": "code",
   "execution_count": null,
   "id": "9fb03728",
   "metadata": {},
   "outputs": [],
   "source": [
    "df_salary.head()"
   ]
  },
  {
   "cell_type": "markdown",
   "id": "1026eab4",
   "metadata": {},
   "source": [
    "- Is there a relationship between how long an employee has been with the company and the number of titles they have had?"
   ]
  },
  {
   "cell_type": "code",
   "execution_count": null,
   "id": "73cc58b1",
   "metadata": {},
   "outputs": [],
   "source": [
    "#Combining tables into one dataframe\n",
    "df_jobs = pd.concat([salaries, titles])\n",
    "df_jobs"
   ]
  },
  {
   "cell_type": "code",
   "execution_count": null,
   "id": "14689f46",
   "metadata": {},
   "outputs": [],
   "source": [
    "df_jobs['tenure']= df.tenure.replace(' ',np.nan)"
   ]
  },
  {
   "cell_type": "code",
   "execution_count": null,
   "id": "0d517c01",
   "metadata": {},
   "outputs": [],
   "source": [
    "#adding a new column for titles\n",
    "df_jobs[\"title_count\"] = df_jobs[\"title\"]\n",
    "df_jobs.head()"
   ]
  },
  {
   "cell_type": "code",
   "execution_count": null,
   "id": "bb157487",
   "metadata": {},
   "outputs": [],
   "source": [
    "#realized I need to clean up the NaNs:\n",
    "df_jobs['title']= df_jobs.title.replace('NaN',np.nan)\n",
    "df_jobs=df_jobs[['title']].dropna()\n",
    "df_jobs"
   ]
  },
  {
   "cell_type": "code",
   "execution_count": null,
   "id": "89a2f970",
   "metadata": {},
   "outputs": [],
   "source": [
    "#title_salary = pd.concat[salaries,titles]\n",
    "\n",
    "#salaries['salary_count']= titles['title'].nunique(axis=1)\n",
    "\n",
    "#title_salary"
   ]
  },
  {
   "cell_type": "code",
   "execution_count": null,
   "id": "18593ed7",
   "metadata": {},
   "outputs": [],
   "source": []
  },
  {
   "cell_type": "markdown",
   "id": "75000b99",
   "metadata": {},
   "source": [
    "### Chi Square Exercises"
   ]
  },
  {
   "cell_type": "markdown",
   "id": "36bab8ed",
   "metadata": {},
   "source": [
    "### Exercise One:\n",
    "Use the following contingency table to help answer the question of whether using a macbook and being a codeup student are independent of each other."
   ]
  },
  {
   "cell_type": "code",
   "execution_count": 155,
   "id": "c0182d1f",
   "metadata": {},
   "outputs": [
    {
     "data": {
      "text/html": [
       "<div>\n",
       "<style scoped>\n",
       "    .dataframe tbody tr th:only-of-type {\n",
       "        vertical-align: middle;\n",
       "    }\n",
       "\n",
       "    .dataframe tbody tr th {\n",
       "        vertical-align: top;\n",
       "    }\n",
       "\n",
       "    .dataframe thead th {\n",
       "        text-align: right;\n",
       "    }\n",
       "</style>\n",
       "<table border=\"1\" class=\"dataframe\">\n",
       "  <thead>\n",
       "    <tr style=\"text-align: right;\">\n",
       "      <th></th>\n",
       "      <th>Codeup_Student</th>\n",
       "      <th>Not_Codeup_Student</th>\n",
       "    </tr>\n",
       "  </thead>\n",
       "  <tbody>\n",
       "    <tr>\n",
       "      <th>Uses a Mac Book</th>\n",
       "      <td>49</td>\n",
       "      <td>20</td>\n",
       "    </tr>\n",
       "    <tr>\n",
       "      <th>Does not Own a Mac Book</th>\n",
       "      <td>1</td>\n",
       "      <td>30</td>\n",
       "    </tr>\n",
       "  </tbody>\n",
       "</table>\n",
       "</div>"
      ],
      "text/plain": [
       "                         Codeup_Student  Not_Codeup_Student\n",
       "Uses a Mac Book                      49                  20\n",
       "Does not Own a Mac Book               1                  30"
      ]
     },
     "execution_count": 155,
     "metadata": {},
     "output_type": "execute_result"
    }
   ],
   "source": [
    "alpha = .05\n",
    "index = ['Uses a Mac Book', 'Does not Own a Mac Book']\n",
    "columns = ['Codeup_Student', 'Not_Codeup_Student']\n",
    "\n",
    "observed = pd.DataFrame([[49, 20], [1, 30]], index=index, columns=columns)\n",
    "observed"
   ]
  },
  {
   "cell_type": "code",
   "execution_count": 156,
   "id": "34624555",
   "metadata": {},
   "outputs": [
    {
     "data": {
      "text/plain": [
       "1.4116760526193828e-09"
      ]
     },
     "execution_count": 156,
     "metadata": {},
     "output_type": "execute_result"
    }
   ],
   "source": [
    "chi2, p, defg, expected = stats.chi2_contingency(observed)\n",
    "p"
   ]
  },
  {
   "cell_type": "markdown",
   "id": "a828722a",
   "metadata": {},
   "source": [
    "#### Answer: We don't have enough evidence to reject the null hypothesis"
   ]
  },
  {
   "cell_type": "markdown",
   "id": "dd864ef5",
   "metadata": {},
   "source": [
    "________________________________________________________________________________"
   ]
  },
  {
   "cell_type": "markdown",
   "id": "1265c6c6",
   "metadata": {},
   "source": [
    "### Exercise Two:\n",
    "\n",
    "Choose another 2 categorical variables from the mpg dataset and perform a \n",
    "c\n",
    "h\n",
    "i\n",
    "2\n",
    " contingency table test with them. Be sure to state your null and alternative hypotheses."
   ]
  },
  {
   "cell_type": "code",
   "execution_count": 15,
   "id": "5fa5c8a0",
   "metadata": {},
   "outputs": [],
   "source": [
    "from pydataset import data\n",
    "mpg = data('mpg')"
   ]
  },
  {
   "cell_type": "code",
   "execution_count": 22,
   "id": "0cefab72",
   "metadata": {},
   "outputs": [
    {
     "data": {
      "text/plain": [
       "manufacturer     object\n",
       "model            object\n",
       "displ           float64\n",
       "year              int64\n",
       "cyl               int64\n",
       "trans            object\n",
       "drv              object\n",
       "cty               int64\n",
       "hwy               int64\n",
       "fl               object\n",
       "class            object\n",
       "dtype: object"
      ]
     },
     "execution_count": 22,
     "metadata": {},
     "output_type": "execute_result"
    }
   ],
   "source": [
    "mpg.dtypes"
   ]
  },
  {
   "cell_type": "markdown",
   "id": "ba7446e1",
   "metadata": {},
   "source": [
    "Let's use model & transmission to look at relationships.\n",
    "\n",
    "H0: Model and Transmission of a vehicle are Independant variables from one another."
   ]
  },
  {
   "cell_type": "code",
   "execution_count": 23,
   "id": "40539d0a",
   "metadata": {},
   "outputs": [
    {
     "data": {
      "text/plain": [
       "9.686724361961055e-09"
      ]
     },
     "execution_count": 23,
     "metadata": {},
     "output_type": "execute_result"
    }
   ],
   "source": [
    "observed = pd.crosstab(mpg.model, mpg.trans)\n",
    "chi2, p, defg, expected = stats.chi2_contingency(observed)\n",
    "p"
   ]
  },
  {
   "cell_type": "code",
   "execution_count": null,
   "id": "84f05be3",
   "metadata": {},
   "outputs": [],
   "source": [
    "# There is definitely a relationship here"
   ]
  },
  {
   "cell_type": "markdown",
   "id": "f7739f8a",
   "metadata": {},
   "source": [
    "#### Answer: We Reject the Null Hypothesis"
   ]
  },
  {
   "cell_type": "markdown",
   "id": "2053b5f3",
   "metadata": {},
   "source": [
    "___________________________________________________________________________"
   ]
  },
  {
   "cell_type": "markdown",
   "id": "bf146eac",
   "metadata": {},
   "source": [
    "### Exercise Three:\n",
    "\n",
    "Use the data from the employees database to answer these questions:\n",
    "\n",
    "- Is an employee's gender independent of whether an employee works in sales or marketing? (only look at current employees)\n",
    "- Is an employee's gender independent of whether or not they are or have been a manager?"
   ]
  },
  {
   "cell_type": "code",
   "execution_count": 148,
   "id": "f69c2d95",
   "metadata": {},
   "outputs": [],
   "source": [
    "import pandas as pd\n",
    "import env\n",
    "url = f'mysql+pymysql://{env.user}:{env.password}@{env.host}/employees'\n",
    "\n",
    "salaries = pd.read_sql('SELECT * FROM salaries', url)\n",
    "titles = pd.read_sql('SELECT * FROM titles', url)\n",
    "employees = pd.read_sql('SELECT * FROM employees', url)"
   ]
  },
  {
   "cell_type": "code",
   "execution_count": 112,
   "id": "00a0fa75",
   "metadata": {},
   "outputs": [],
   "source": [
    "departments = pd.read_sql('SELECT * FROM departments', url)\n",
    "dep_emp = pd.read_sql('SELECT * FROM dept_emp', url)"
   ]
  },
  {
   "cell_type": "code",
   "execution_count": 113,
   "id": "94dfc398",
   "metadata": {},
   "outputs": [],
   "source": [
    "e = employees\n",
    "d = departments\n",
    "de = dep_emp"
   ]
  },
  {
   "cell_type": "code",
   "execution_count": 114,
   "id": "e68cc453",
   "metadata": {},
   "outputs": [
    {
     "data": {
      "text/html": [
       "<div>\n",
       "<style scoped>\n",
       "    .dataframe tbody tr th:only-of-type {\n",
       "        vertical-align: middle;\n",
       "    }\n",
       "\n",
       "    .dataframe tbody tr th {\n",
       "        vertical-align: top;\n",
       "    }\n",
       "\n",
       "    .dataframe thead th {\n",
       "        text-align: right;\n",
       "    }\n",
       "</style>\n",
       "<table border=\"1\" class=\"dataframe\">\n",
       "  <thead>\n",
       "    <tr style=\"text-align: right;\">\n",
       "      <th></th>\n",
       "      <th>emp_no</th>\n",
       "      <th>dept_no</th>\n",
       "      <th>from_date</th>\n",
       "      <th>to_date</th>\n",
       "    </tr>\n",
       "  </thead>\n",
       "  <tbody>\n",
       "    <tr>\n",
       "      <th>0</th>\n",
       "      <td>10001</td>\n",
       "      <td>d005</td>\n",
       "      <td>1986-06-26</td>\n",
       "      <td>9999-01-01</td>\n",
       "    </tr>\n",
       "    <tr>\n",
       "      <th>1</th>\n",
       "      <td>10002</td>\n",
       "      <td>d007</td>\n",
       "      <td>1996-08-03</td>\n",
       "      <td>9999-01-01</td>\n",
       "    </tr>\n",
       "    <tr>\n",
       "      <th>2</th>\n",
       "      <td>10003</td>\n",
       "      <td>d004</td>\n",
       "      <td>1995-12-03</td>\n",
       "      <td>9999-01-01</td>\n",
       "    </tr>\n",
       "    <tr>\n",
       "      <th>3</th>\n",
       "      <td>10004</td>\n",
       "      <td>d004</td>\n",
       "      <td>1986-12-01</td>\n",
       "      <td>9999-01-01</td>\n",
       "    </tr>\n",
       "    <tr>\n",
       "      <th>4</th>\n",
       "      <td>10005</td>\n",
       "      <td>d003</td>\n",
       "      <td>1989-09-12</td>\n",
       "      <td>9999-01-01</td>\n",
       "    </tr>\n",
       "    <tr>\n",
       "      <th>...</th>\n",
       "      <td>...</td>\n",
       "      <td>...</td>\n",
       "      <td>...</td>\n",
       "      <td>...</td>\n",
       "    </tr>\n",
       "    <tr>\n",
       "      <th>331598</th>\n",
       "      <td>499995</td>\n",
       "      <td>d004</td>\n",
       "      <td>1997-06-02</td>\n",
       "      <td>9999-01-01</td>\n",
       "    </tr>\n",
       "    <tr>\n",
       "      <th>331599</th>\n",
       "      <td>499996</td>\n",
       "      <td>d004</td>\n",
       "      <td>1996-05-13</td>\n",
       "      <td>9999-01-01</td>\n",
       "    </tr>\n",
       "    <tr>\n",
       "      <th>331600</th>\n",
       "      <td>499997</td>\n",
       "      <td>d005</td>\n",
       "      <td>1987-08-30</td>\n",
       "      <td>9999-01-01</td>\n",
       "    </tr>\n",
       "    <tr>\n",
       "      <th>331601</th>\n",
       "      <td>499998</td>\n",
       "      <td>d002</td>\n",
       "      <td>1993-12-27</td>\n",
       "      <td>9999-01-01</td>\n",
       "    </tr>\n",
       "    <tr>\n",
       "      <th>331602</th>\n",
       "      <td>499999</td>\n",
       "      <td>d004</td>\n",
       "      <td>1997-11-30</td>\n",
       "      <td>9999-01-01</td>\n",
       "    </tr>\n",
       "  </tbody>\n",
       "</table>\n",
       "<p>331603 rows × 4 columns</p>\n",
       "</div>"
      ],
      "text/plain": [
       "        emp_no dept_no   from_date     to_date\n",
       "0        10001    d005  1986-06-26  9999-01-01\n",
       "1        10002    d007  1996-08-03  9999-01-01\n",
       "2        10003    d004  1995-12-03  9999-01-01\n",
       "3        10004    d004  1986-12-01  9999-01-01\n",
       "4        10005    d003  1989-09-12  9999-01-01\n",
       "...        ...     ...         ...         ...\n",
       "331598  499995    d004  1997-06-02  9999-01-01\n",
       "331599  499996    d004  1996-05-13  9999-01-01\n",
       "331600  499997    d005  1987-08-30  9999-01-01\n",
       "331601  499998    d002  1993-12-27  9999-01-01\n",
       "331602  499999    d004  1997-11-30  9999-01-01\n",
       "\n",
       "[331603 rows x 4 columns]"
      ]
     },
     "execution_count": 114,
     "metadata": {},
     "output_type": "execute_result"
    }
   ],
   "source": [
    "dep_emp"
   ]
  },
  {
   "cell_type": "code",
   "execution_count": 115,
   "id": "564cbef4",
   "metadata": {},
   "outputs": [
    {
     "data": {
      "text/html": [
       "<div>\n",
       "<style scoped>\n",
       "    .dataframe tbody tr th:only-of-type {\n",
       "        vertical-align: middle;\n",
       "    }\n",
       "\n",
       "    .dataframe tbody tr th {\n",
       "        vertical-align: top;\n",
       "    }\n",
       "\n",
       "    .dataframe thead th {\n",
       "        text-align: right;\n",
       "    }\n",
       "</style>\n",
       "<table border=\"1\" class=\"dataframe\">\n",
       "  <thead>\n",
       "    <tr style=\"text-align: right;\">\n",
       "      <th></th>\n",
       "      <th>dept_no</th>\n",
       "      <th>dept_name</th>\n",
       "    </tr>\n",
       "  </thead>\n",
       "  <tbody>\n",
       "    <tr>\n",
       "      <th>0</th>\n",
       "      <td>d009</td>\n",
       "      <td>Customer Service</td>\n",
       "    </tr>\n",
       "    <tr>\n",
       "      <th>1</th>\n",
       "      <td>d005</td>\n",
       "      <td>Development</td>\n",
       "    </tr>\n",
       "    <tr>\n",
       "      <th>2</th>\n",
       "      <td>d002</td>\n",
       "      <td>Finance</td>\n",
       "    </tr>\n",
       "    <tr>\n",
       "      <th>3</th>\n",
       "      <td>d003</td>\n",
       "      <td>Human Resources</td>\n",
       "    </tr>\n",
       "    <tr>\n",
       "      <th>4</th>\n",
       "      <td>d001</td>\n",
       "      <td>Marketing</td>\n",
       "    </tr>\n",
       "  </tbody>\n",
       "</table>\n",
       "</div>"
      ],
      "text/plain": [
       "  dept_no         dept_name\n",
       "0    d009  Customer Service\n",
       "1    d005       Development\n",
       "2    d002           Finance\n",
       "3    d003   Human Resources\n",
       "4    d001         Marketing"
      ]
     },
     "execution_count": 115,
     "metadata": {},
     "output_type": "execute_result"
    }
   ],
   "source": [
    "d.head()"
   ]
  },
  {
   "cell_type": "code",
   "execution_count": 143,
   "id": "65d1afea",
   "metadata": {},
   "outputs": [],
   "source": [
    "sql_query = '''\n",
    "SELECT \n",
    "employees.gender,\n",
    "departments.dept_name\n",
    "FROM employees\n",
    "JOIN \n",
    "dept_emp ON employees.emp_no = dept_emp.emp_no\n",
    "JOIN \n",
    "departments ON dept_emp.dept_no = departments.dept_no\n",
    "WHERE departments.dept_name IN ('Sales','Marketing')\n",
    "AND dept_emp.to_date > NOW();\n",
    "'''"
   ]
  },
  {
   "cell_type": "code",
   "execution_count": 144,
   "id": "2dc1264f",
   "metadata": {},
   "outputs": [],
   "source": [
    "url = f'mysql+pymysql://{env.user}:{env.password}@{env.host}/employees'"
   ]
  },
  {
   "cell_type": "code",
   "execution_count": 146,
   "id": "95572b96",
   "metadata": {},
   "outputs": [
    {
     "data": {
      "text/html": [
       "<div>\n",
       "<style scoped>\n",
       "    .dataframe tbody tr th:only-of-type {\n",
       "        vertical-align: middle;\n",
       "    }\n",
       "\n",
       "    .dataframe tbody tr th {\n",
       "        vertical-align: top;\n",
       "    }\n",
       "\n",
       "    .dataframe thead th {\n",
       "        text-align: right;\n",
       "    }\n",
       "</style>\n",
       "<table border=\"1\" class=\"dataframe\">\n",
       "  <thead>\n",
       "    <tr style=\"text-align: right;\">\n",
       "      <th></th>\n",
       "      <th>gender</th>\n",
       "      <th>dept_name</th>\n",
       "    </tr>\n",
       "  </thead>\n",
       "  <tbody>\n",
       "    <tr>\n",
       "      <th>0</th>\n",
       "      <td>F</td>\n",
       "      <td>Marketing</td>\n",
       "    </tr>\n",
       "    <tr>\n",
       "      <th>1</th>\n",
       "      <td>M</td>\n",
       "      <td>Marketing</td>\n",
       "    </tr>\n",
       "    <tr>\n",
       "      <th>2</th>\n",
       "      <td>F</td>\n",
       "      <td>Marketing</td>\n",
       "    </tr>\n",
       "    <tr>\n",
       "      <th>3</th>\n",
       "      <td>F</td>\n",
       "      <td>Marketing</td>\n",
       "    </tr>\n",
       "    <tr>\n",
       "      <th>4</th>\n",
       "      <td>F</td>\n",
       "      <td>Marketing</td>\n",
       "    </tr>\n",
       "  </tbody>\n",
       "</table>\n",
       "</div>"
      ],
      "text/plain": [
       "  gender  dept_name\n",
       "0      F  Marketing\n",
       "1      M  Marketing\n",
       "2      F  Marketing\n",
       "3      F  Marketing\n",
       "4      F  Marketing"
      ]
     },
     "execution_count": 146,
     "metadata": {},
     "output_type": "execute_result"
    }
   ],
   "source": [
    "df = pd.read_sql(sql_query, url)\n",
    "df.head()"
   ]
  },
  {
   "cell_type": "code",
   "execution_count": 147,
   "id": "8e762a53",
   "metadata": {},
   "outputs": [
    {
     "data": {
      "text/plain": [
       "0.5691938610810126"
      ]
     },
     "execution_count": 147,
     "metadata": {},
     "output_type": "execute_result"
    }
   ],
   "source": [
    "observed = pd.crosstab(df.gender, df.dept_name)\n",
    "chi2, p, defg, expected = stats.chi2_contingency(observed)\n",
    "p"
   ]
  },
  {
   "cell_type": "markdown",
   "id": "02e08da4",
   "metadata": {},
   "source": [
    "#### Answer: We Do NOT reject the Null Hypothesis"
   ]
  },
  {
   "cell_type": "markdown",
   "id": "d125c2d1",
   "metadata": {},
   "source": [
    "### Is an employee's gender independent of whether or not they are or have been a manager?"
   ]
  },
  {
   "cell_type": "code",
   "execution_count": 150,
   "id": "9e68bf97",
   "metadata": {},
   "outputs": [],
   "source": [
    "query = '''\n",
    "SELECT \n",
    "employees.gender,\n",
    "titles.title\n",
    "FROM employees\n",
    "JOIN \n",
    "titles ON employees.emp_no = titles.emp_no\n",
    "WHERE titles.title = 'Manager';\n",
    "'''"
   ]
  },
  {
   "cell_type": "code",
   "execution_count": 151,
   "id": "eb7fe3a9",
   "metadata": {},
   "outputs": [
    {
     "data": {
      "text/html": [
       "<div>\n",
       "<style scoped>\n",
       "    .dataframe tbody tr th:only-of-type {\n",
       "        vertical-align: middle;\n",
       "    }\n",
       "\n",
       "    .dataframe tbody tr th {\n",
       "        vertical-align: top;\n",
       "    }\n",
       "\n",
       "    .dataframe thead th {\n",
       "        text-align: right;\n",
       "    }\n",
       "</style>\n",
       "<table border=\"1\" class=\"dataframe\">\n",
       "  <thead>\n",
       "    <tr style=\"text-align: right;\">\n",
       "      <th></th>\n",
       "      <th>gender</th>\n",
       "      <th>title</th>\n",
       "    </tr>\n",
       "  </thead>\n",
       "  <tbody>\n",
       "    <tr>\n",
       "      <th>0</th>\n",
       "      <td>M</td>\n",
       "      <td>Manager</td>\n",
       "    </tr>\n",
       "    <tr>\n",
       "      <th>1</th>\n",
       "      <td>M</td>\n",
       "      <td>Manager</td>\n",
       "    </tr>\n",
       "    <tr>\n",
       "      <th>2</th>\n",
       "      <td>M</td>\n",
       "      <td>Manager</td>\n",
       "    </tr>\n",
       "    <tr>\n",
       "      <th>3</th>\n",
       "      <td>F</td>\n",
       "      <td>Manager</td>\n",
       "    </tr>\n",
       "    <tr>\n",
       "      <th>4</th>\n",
       "      <td>F</td>\n",
       "      <td>Manager</td>\n",
       "    </tr>\n",
       "  </tbody>\n",
       "</table>\n",
       "</div>"
      ],
      "text/plain": [
       "  gender    title\n",
       "0      M  Manager\n",
       "1      M  Manager\n",
       "2      M  Manager\n",
       "3      F  Manager\n",
       "4      F  Manager"
      ]
     },
     "execution_count": 151,
     "metadata": {},
     "output_type": "execute_result"
    }
   ],
   "source": [
    "df = pd.read_sql(query, url)\n",
    "df.head()"
   ]
  },
  {
   "cell_type": "code",
   "execution_count": 152,
   "id": "768d33b4",
   "metadata": {},
   "outputs": [
    {
     "data": {
      "text/plain": [
       "1.0"
      ]
     },
     "execution_count": 152,
     "metadata": {},
     "output_type": "execute_result"
    }
   ],
   "source": [
    "observed = pd.crosstab(df.gender, df.title)\n",
    "chi2, p, defg, expected = stats.chi2_contingency(observed)\n",
    "p"
   ]
  },
  {
   "cell_type": "markdown",
   "id": "ce149860",
   "metadata": {},
   "source": [
    "#### Answer: We Do NOT reject the Null Hypothesis"
   ]
  },
  {
   "cell_type": "code",
   "execution_count": null,
   "id": "2be9f986",
   "metadata": {},
   "outputs": [],
   "source": []
  }
 ],
 "metadata": {
  "kernelspec": {
   "display_name": "Python 3 (ipykernel)",
   "language": "python",
   "name": "python3"
  },
  "language_info": {
   "codemirror_mode": {
    "name": "ipython",
    "version": 3
   },
   "file_extension": ".py",
   "mimetype": "text/x-python",
   "name": "python",
   "nbconvert_exporter": "python",
   "pygments_lexer": "ipython3",
   "version": "3.9.7"
  }
 },
 "nbformat": 4,
 "nbformat_minor": 5
}
