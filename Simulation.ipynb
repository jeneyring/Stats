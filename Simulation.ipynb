{
 "cells": [
  {
   "cell_type": "code",
   "execution_count": 2,
   "id": "35f192ea",
   "metadata": {},
   "outputs": [],
   "source": [
    "%matplotlib inline\n",
    "import numpy as np\n",
    "import pandas as pd\n",
    "\n",
    "np.random.seed(29)"
   ]
  },
  {
   "cell_type": "markdown",
   "id": "1f6d4db9",
   "metadata": {},
   "source": [
    "### 1) How likely is it that you roll doubles when rolling two dice?"
   ]
  },
  {
   "cell_type": "code",
   "execution_count": 199,
   "id": "5d225f21",
   "metadata": {},
   "outputs": [],
   "source": [
    "n_trials = nrows = 10**5\n",
    "n_dice = ncols = 2"
   ]
  },
  {
   "cell_type": "code",
   "execution_count": 200,
   "id": "6436ce17",
   "metadata": {},
   "outputs": [
    {
     "data": {
      "text/plain": [
       "array([[3, 1],\n",
       "       [4, 5],\n",
       "       [4, 4],\n",
       "       ...,\n",
       "       [4, 5],\n",
       "       [5, 2],\n",
       "       [1, 3]])"
      ]
     },
     "execution_count": 200,
     "metadata": {},
     "output_type": "execute_result"
    }
   ],
   "source": [
    "rolls = np.random.choice([1, 2, 3, 4, 5, 6], n_trials * n_dice).reshape(nrows, ncols)\n",
    "rolls"
   ]
  },
  {
   "cell_type": "code",
   "execution_count": 201,
   "id": "09ce0454",
   "metadata": {},
   "outputs": [],
   "source": [
    "#create a dataframe to get columns for rolls\n",
    "\n",
    "rolls = (pd.DataFrame(rolls))"
   ]
  },
  {
   "cell_type": "code",
   "execution_count": 202,
   "id": "c6fd5657",
   "metadata": {},
   "outputs": [
    {
     "data": {
      "text/html": [
       "<div>\n",
       "<style scoped>\n",
       "    .dataframe tbody tr th:only-of-type {\n",
       "        vertical-align: middle;\n",
       "    }\n",
       "\n",
       "    .dataframe tbody tr th {\n",
       "        vertical-align: top;\n",
       "    }\n",
       "\n",
       "    .dataframe thead th {\n",
       "        text-align: right;\n",
       "    }\n",
       "</style>\n",
       "<table border=\"1\" class=\"dataframe\">\n",
       "  <thead>\n",
       "    <tr style=\"text-align: right;\">\n",
       "      <th></th>\n",
       "      <th>0</th>\n",
       "      <th>1</th>\n",
       "    </tr>\n",
       "  </thead>\n",
       "  <tbody>\n",
       "    <tr>\n",
       "      <th>0</th>\n",
       "      <td>3</td>\n",
       "      <td>1</td>\n",
       "    </tr>\n",
       "    <tr>\n",
       "      <th>1</th>\n",
       "      <td>4</td>\n",
       "      <td>5</td>\n",
       "    </tr>\n",
       "    <tr>\n",
       "      <th>2</th>\n",
       "      <td>4</td>\n",
       "      <td>4</td>\n",
       "    </tr>\n",
       "    <tr>\n",
       "      <th>3</th>\n",
       "      <td>6</td>\n",
       "      <td>2</td>\n",
       "    </tr>\n",
       "    <tr>\n",
       "      <th>4</th>\n",
       "      <td>3</td>\n",
       "      <td>3</td>\n",
       "    </tr>\n",
       "  </tbody>\n",
       "</table>\n",
       "</div>"
      ],
      "text/plain": [
       "   0  1\n",
       "0  3  1\n",
       "1  4  5\n",
       "2  4  4\n",
       "3  6  2\n",
       "4  3  3"
      ]
     },
     "execution_count": 202,
     "metadata": {},
     "output_type": "execute_result"
    }
   ],
   "source": [
    "rolls.head()"
   ]
  },
  {
   "cell_type": "code",
   "execution_count": 203,
   "id": "bbd20534",
   "metadata": {},
   "outputs": [
    {
     "data": {
      "text/plain": [
       "RangeIndex(start=0, stop=2, step=1)"
      ]
     },
     "execution_count": 203,
     "metadata": {},
     "output_type": "execute_result"
    }
   ],
   "source": [
    "rolls.columns"
   ]
  },
  {
   "cell_type": "code",
   "execution_count": 204,
   "id": "ec3926cf",
   "metadata": {},
   "outputs": [],
   "source": [
    "#name the columns (roll vs roll2)\n",
    "rolls.columns = ['rolls1','rolls2']"
   ]
  },
  {
   "cell_type": "code",
   "execution_count": 206,
   "id": "1b916f86",
   "metadata": {},
   "outputs": [
    {
     "data": {
      "text/html": [
       "<div>\n",
       "<style scoped>\n",
       "    .dataframe tbody tr th:only-of-type {\n",
       "        vertical-align: middle;\n",
       "    }\n",
       "\n",
       "    .dataframe tbody tr th {\n",
       "        vertical-align: top;\n",
       "    }\n",
       "\n",
       "    .dataframe thead th {\n",
       "        text-align: right;\n",
       "    }\n",
       "</style>\n",
       "<table border=\"1\" class=\"dataframe\">\n",
       "  <thead>\n",
       "    <tr style=\"text-align: right;\">\n",
       "      <th></th>\n",
       "      <th>rolls1</th>\n",
       "      <th>rolls2</th>\n",
       "    </tr>\n",
       "  </thead>\n",
       "  <tbody>\n",
       "    <tr>\n",
       "      <th>0</th>\n",
       "      <td>3</td>\n",
       "      <td>1</td>\n",
       "    </tr>\n",
       "    <tr>\n",
       "      <th>1</th>\n",
       "      <td>4</td>\n",
       "      <td>5</td>\n",
       "    </tr>\n",
       "    <tr>\n",
       "      <th>2</th>\n",
       "      <td>4</td>\n",
       "      <td>4</td>\n",
       "    </tr>\n",
       "    <tr>\n",
       "      <th>3</th>\n",
       "      <td>6</td>\n",
       "      <td>2</td>\n",
       "    </tr>\n",
       "    <tr>\n",
       "      <th>4</th>\n",
       "      <td>3</td>\n",
       "      <td>3</td>\n",
       "    </tr>\n",
       "  </tbody>\n",
       "</table>\n",
       "</div>"
      ],
      "text/plain": [
       "   rolls1  rolls2\n",
       "0       3       1\n",
       "1       4       5\n",
       "2       4       4\n",
       "3       6       2\n",
       "4       3       3"
      ]
     },
     "execution_count": 206,
     "metadata": {},
     "output_type": "execute_result"
    }
   ],
   "source": [
    "rolls.head()"
   ]
  },
  {
   "cell_type": "code",
   "execution_count": 45,
   "id": "3c1ab3bc",
   "metadata": {},
   "outputs": [
    {
     "data": {
      "text/plain": [
       "0.16857"
      ]
     },
     "execution_count": 45,
     "metadata": {},
     "output_type": "execute_result"
    }
   ],
   "source": [
    "#find the average of doubles rolled\n",
    "(rolls.rolls1 == rolls.rolls2).mean()"
   ]
  },
  {
   "cell_type": "markdown",
   "id": "36a51afa",
   "metadata": {},
   "source": [
    "note: this makes sense as the probablity of two dice rolls being doubles as a 6:36 chance (6 sided dice X 6) and 0.16 = 1/6"
   ]
  },
  {
   "cell_type": "markdown",
   "id": "e32cb3df",
   "metadata": {},
   "source": [
    "### 2) If you flip 8 coins, what is the probability of getting exactly 3 heads? What is the probability of getting more than 3 heads?"
   ]
  },
  {
   "cell_type": "code",
   "execution_count": 207,
   "id": "6e295a1b",
   "metadata": {},
   "outputs": [],
   "source": [
    "n_trials = nrows = 10 **5\n",
    "n_dice = ncols = 8"
   ]
  },
  {
   "cell_type": "code",
   "execution_count": 211,
   "id": "a6d570db",
   "metadata": {},
   "outputs": [
    {
     "data": {
      "text/plain": [
       "array([[1, 1, 1, ..., 0, 1, 0],\n",
       "       [0, 1, 1, ..., 0, 1, 1],\n",
       "       [1, 0, 0, ..., 1, 1, 0],\n",
       "       ...,\n",
       "       [0, 0, 1, ..., 1, 1, 0],\n",
       "       [0, 1, 1, ..., 1, 1, 1],\n",
       "       [1, 0, 0, ..., 0, 1, 0]])"
      ]
     },
     "execution_count": 211,
     "metadata": {},
     "output_type": "execute_result"
    }
   ],
   "source": [
    "toss = np.random.choice([0, 1], n_trials * n_dice).reshape(nrows, ncols)\n",
    "toss"
   ]
  },
  {
   "cell_type": "code",
   "execution_count": 212,
   "id": "2b71c1f8",
   "metadata": {},
   "outputs": [
    {
     "data": {
      "text/plain": [
       "(100000, 8)"
      ]
     },
     "execution_count": 212,
     "metadata": {},
     "output_type": "execute_result"
    }
   ],
   "source": [
    "#create a dataframe to get columns for rolls\n",
    "\n",
    "coin_toss = (pd.DataFrame(toss))\n",
    "coin_toss.shape"
   ]
  },
  {
   "cell_type": "code",
   "execution_count": 210,
   "id": "d45601d8",
   "metadata": {},
   "outputs": [
    {
     "data": {
      "text/html": [
       "<div>\n",
       "<style scoped>\n",
       "    .dataframe tbody tr th:only-of-type {\n",
       "        vertical-align: middle;\n",
       "    }\n",
       "\n",
       "    .dataframe tbody tr th {\n",
       "        vertical-align: top;\n",
       "    }\n",
       "\n",
       "    .dataframe thead th {\n",
       "        text-align: right;\n",
       "    }\n",
       "</style>\n",
       "<table border=\"1\" class=\"dataframe\">\n",
       "  <thead>\n",
       "    <tr style=\"text-align: right;\">\n",
       "      <th></th>\n",
       "      <th>0</th>\n",
       "      <th>1</th>\n",
       "      <th>2</th>\n",
       "      <th>3</th>\n",
       "      <th>4</th>\n",
       "      <th>5</th>\n",
       "      <th>6</th>\n",
       "      <th>7</th>\n",
       "    </tr>\n",
       "  </thead>\n",
       "  <tbody>\n",
       "    <tr>\n",
       "      <th>0</th>\n",
       "      <td>1</td>\n",
       "      <td>0</td>\n",
       "      <td>0</td>\n",
       "      <td>1</td>\n",
       "      <td>1</td>\n",
       "      <td>1</td>\n",
       "      <td>1</td>\n",
       "      <td>1</td>\n",
       "    </tr>\n",
       "    <tr>\n",
       "      <th>1</th>\n",
       "      <td>0</td>\n",
       "      <td>0</td>\n",
       "      <td>1</td>\n",
       "      <td>1</td>\n",
       "      <td>1</td>\n",
       "      <td>0</td>\n",
       "      <td>0</td>\n",
       "      <td>0</td>\n",
       "    </tr>\n",
       "    <tr>\n",
       "      <th>2</th>\n",
       "      <td>0</td>\n",
       "      <td>1</td>\n",
       "      <td>0</td>\n",
       "      <td>0</td>\n",
       "      <td>1</td>\n",
       "      <td>1</td>\n",
       "      <td>0</td>\n",
       "      <td>0</td>\n",
       "    </tr>\n",
       "    <tr>\n",
       "      <th>3</th>\n",
       "      <td>1</td>\n",
       "      <td>0</td>\n",
       "      <td>1</td>\n",
       "      <td>1</td>\n",
       "      <td>0</td>\n",
       "      <td>0</td>\n",
       "      <td>1</td>\n",
       "      <td>1</td>\n",
       "    </tr>\n",
       "    <tr>\n",
       "      <th>4</th>\n",
       "      <td>0</td>\n",
       "      <td>0</td>\n",
       "      <td>1</td>\n",
       "      <td>1</td>\n",
       "      <td>1</td>\n",
       "      <td>0</td>\n",
       "      <td>1</td>\n",
       "      <td>1</td>\n",
       "    </tr>\n",
       "  </tbody>\n",
       "</table>\n",
       "</div>"
      ],
      "text/plain": [
       "   0  1  2  3  4  5  6  7\n",
       "0  1  0  0  1  1  1  1  1\n",
       "1  0  0  1  1  1  0  0  0\n",
       "2  0  1  0  0  1  1  0  0\n",
       "3  1  0  1  1  0  0  1  1\n",
       "4  0  0  1  1  1  0  1  1"
      ]
     },
     "execution_count": 210,
     "metadata": {},
     "output_type": "execute_result"
    }
   ],
   "source": [
    "coin_toss.head()"
   ]
  },
  {
   "cell_type": "code",
   "execution_count": 131,
   "id": "89512b8d",
   "metadata": {},
   "outputs": [
    {
     "data": {
      "text/plain": [
       "RangeIndex(start=0, stop=8, step=1)"
      ]
     },
     "execution_count": 131,
     "metadata": {},
     "output_type": "execute_result"
    }
   ],
   "source": [
    "coin_toss.columns"
   ]
  },
  {
   "cell_type": "code",
   "execution_count": 132,
   "id": "350a1ec2",
   "metadata": {},
   "outputs": [],
   "source": [
    "coin_toss.columns = ['t1','t2','t3','t4','t5','t6','t7','t8']"
   ]
  },
  {
   "cell_type": "code",
   "execution_count": 133,
   "id": "0a9ccb00",
   "metadata": {},
   "outputs": [
    {
     "data": {
      "text/plain": [
       "Index(['t1', 't2', 't3', 't4', 't5', 't6', 't7', 't8'], dtype='object')"
      ]
     },
     "execution_count": 133,
     "metadata": {},
     "output_type": "execute_result"
    }
   ],
   "source": [
    "coin_toss.columns"
   ]
  },
  {
   "cell_type": "code",
   "execution_count": 134,
   "id": "29ada01c",
   "metadata": {},
   "outputs": [
    {
     "data": {
      "text/plain": [
       "0        2\n",
       "1        4\n",
       "2        2\n",
       "3        6\n",
       "4        5\n",
       "        ..\n",
       "99995    2\n",
       "99996    5\n",
       "99997    3\n",
       "99998    7\n",
       "99999    5\n",
       "Length: 100000, dtype: int64"
      ]
     },
     "execution_count": 134,
     "metadata": {},
     "output_type": "execute_result"
    }
   ],
   "source": [
    "coin_toss.sum(axis=1) "
   ]
  },
  {
   "cell_type": "code",
   "execution_count": 135,
   "id": "302d5653",
   "metadata": {},
   "outputs": [
    {
     "data": {
      "text/plain": [
       "0        False\n",
       "1        False\n",
       "2        False\n",
       "3        False\n",
       "4        False\n",
       "         ...  \n",
       "99995    False\n",
       "99996    False\n",
       "99997     True\n",
       "99998    False\n",
       "99999    False\n",
       "Length: 100000, dtype: bool"
      ]
     },
     "execution_count": 135,
     "metadata": {},
     "output_type": "execute_result"
    }
   ],
   "source": [
    "coin_toss.sum(axis=1) == 3"
   ]
  },
  {
   "cell_type": "code",
   "execution_count": 136,
   "id": "324bf476",
   "metadata": {},
   "outputs": [
    {
     "data": {
      "text/plain": [
       "0.21768"
      ]
     },
     "execution_count": 136,
     "metadata": {},
     "output_type": "execute_result"
    }
   ],
   "source": [
    "(coin_toss.sum(axis=1) == 3).mean()"
   ]
  },
  {
   "cell_type": "markdown",
   "id": "6fcadb3d",
   "metadata": {},
   "source": [
    "#### ANSWER: a 0.22 probability rate"
   ]
  },
  {
   "cell_type": "code",
   "execution_count": 213,
   "id": "f9bd60b4",
   "metadata": {},
   "outputs": [],
   "source": [
    "### (toss.sum(axis=1) == 3).mean() note: IF I want an array, I could just run everything that is not part or or named the df and call as the array"
   ]
  },
  {
   "cell_type": "markdown",
   "id": "6215b4d2",
   "metadata": {},
   "source": [
    "### 3) There are approximitely 3 web development cohorts for every 1 data science cohort at Codeup. Assuming that Codeup randomly selects an alumni to put on a billboard, what are the odds that the two billboards I drive past both have data science students on them?"
   ]
  },
  {
   "cell_type": "code",
   "execution_count": 157,
   "id": "0612f77a",
   "metadata": {},
   "outputs": [],
   "source": [
    "ds_student = .25 #1 out of 4 total students is a DS student, so .25 rate\n",
    "\n",
    "nbillb = ncols = 2\n",
    "ntrials = nrows = 10**5"
   ]
  },
  {
   "cell_type": "code",
   "execution_count": 158,
   "id": "0a4da800",
   "metadata": {},
   "outputs": [
    {
     "data": {
      "text/plain": [
       "array([[0.86375999, 0.28490597],\n",
       "       [0.07325639, 0.7632372 ],\n",
       "       [0.45271906, 0.54229687],\n",
       "       ...,\n",
       "       [0.40357016, 0.05170649],\n",
       "       [0.45221073, 0.98827513],\n",
       "       [0.85694009, 0.66611331]])"
      ]
     },
     "execution_count": 158,
     "metadata": {},
     "output_type": "execute_result"
    }
   ],
   "source": [
    "data = np.random.random((nrows, ncols))\n",
    "data"
   ]
  },
  {
   "cell_type": "code",
   "execution_count": 159,
   "id": "edced70a",
   "metadata": {},
   "outputs": [
    {
     "data": {
      "text/plain": [
       "array([[False, False],\n",
       "       [ True, False],\n",
       "       [False, False],\n",
       "       ...,\n",
       "       [False,  True],\n",
       "       [False, False],\n",
       "       [False, False]])"
      ]
     },
     "execution_count": 159,
     "metadata": {},
     "output_type": "execute_result"
    }
   ],
   "source": [
    "ds_billboard = data <= ds_student\n",
    "ds_billboard"
   ]
  },
  {
   "cell_type": "code",
   "execution_count": 172,
   "id": "1b1487e7",
   "metadata": {},
   "outputs": [
    {
     "data": {
      "text/plain": [
       "array([False, False, False, ..., False, False, False])"
      ]
     },
     "execution_count": 172,
     "metadata": {},
     "output_type": "execute_result"
    }
   ],
   "source": [
    "ds_billboard.sum(axis=1)==2 #because True becomes 1 and False is 0, so in this case a True | True would == 2"
   ]
  },
  {
   "cell_type": "code",
   "execution_count": 171,
   "id": "9df2ccd0",
   "metadata": {},
   "outputs": [
    {
     "data": {
      "text/plain": [
       "0.06336"
      ]
     },
     "execution_count": 171,
     "metadata": {},
     "output_type": "execute_result"
    }
   ],
   "source": [
    "(ds_billboard.sum(axis=1)==2).mean()"
   ]
  },
  {
   "cell_type": "markdown",
   "id": "9f8bb2dd",
   "metadata": {},
   "source": [
    "#### ANSWER: a probablity of 0.06"
   ]
  },
  {
   "cell_type": "code",
   "execution_count": null,
   "id": "5e2e6ffc",
   "metadata": {},
   "outputs": [],
   "source": []
  },
  {
   "cell_type": "markdown",
   "id": "dae6d74f",
   "metadata": {},
   "source": [
    "### 4) Codeup students buy, on average, 3 poptart packages with a standard deviation of 1.5 a day from the snack vending machine. If on monday the machine is restocked with 17 poptart packages, how likely is it that I will be able to buy some poptarts on Friday afternoon? (Remember, if you have mean and standard deviation, use the np.random.normal)"
   ]
  },
  {
   "cell_type": "code",
   "execution_count": 218,
   "id": "df965526",
   "metadata": {},
   "outputs": [],
   "source": [
    "avg_tarts=3\n",
    "\n",
    "days = ncols = 5\n",
    "ntrials = nrows = 10**5"
   ]
  },
  {
   "cell_type": "code",
   "execution_count": 219,
   "id": "17cdc4a1",
   "metadata": {},
   "outputs": [
    {
     "data": {
      "text/plain": [
       "array([[ 5.,  5.,  2.,  3.,  6.],\n",
       "       [ 2.,  4.,  2.,  3.,  3.],\n",
       "       [ 3.,  3., -0.,  1.,  1.],\n",
       "       ...,\n",
       "       [ 1.,  2.,  2.,  0.,  3.],\n",
       "       [ 4.,  4.,  1.,  2.,  3.],\n",
       "       [ 4.,  6.,  4.,  0.,  4.]])"
      ]
     },
     "execution_count": 219,
     "metadata": {},
     "output_type": "execute_result"
    }
   ],
   "source": [
    "\n",
    "poptarts = np.random.normal(3, 1.5, size =(nrows, ncols)).round()\n",
    "poptarts"
   ]
  },
  {
   "cell_type": "code",
   "execution_count": 221,
   "id": "e506840f",
   "metadata": {},
   "outputs": [
    {
     "data": {
      "text/plain": [
       "0.66972"
      ]
     },
     "execution_count": 221,
     "metadata": {},
     "output_type": "execute_result"
    }
   ],
   "source": [
    "(poptarts.sum(axis=1) < 17).mean()\n",
    "\n",
    "##note: can apply an absolute to make the dataset be only positive numbers (as the direction of poptart inventory is forward)"
   ]
  },
  {
   "cell_type": "markdown",
   "id": "b67c61d6",
   "metadata": {},
   "source": [
    "#### ANSWER: 0.67 probability"
   ]
  },
  {
   "cell_type": "code",
   "execution_count": null,
   "id": "8b08bb43",
   "metadata": {},
   "outputs": [],
   "source": []
  },
  {
   "cell_type": "markdown",
   "id": "3bd2bc20",
   "metadata": {},
   "source": [
    "### 5) Compare Heights"
   ]
  },
  {
   "cell_type": "markdown",
   "id": "c254cdbd",
   "metadata": {},
   "source": [
    "- Men have an average height of 178 cm and standard deviation of 8cm.\n",
    "- Women have a mean of 170, sd = 6cm.\n",
    "\n",
    "Since you have means and standard deviations, you can use np.random.normal to generate observations.\n",
    "\n",
    "If a man and woman are chosen at random, what is the likelihood the woman is taller than the man?"
   ]
  },
  {
   "cell_type": "code",
   "execution_count": 10,
   "id": "bb9984f5",
   "metadata": {},
   "outputs": [
    {
     "data": {
      "text/plain": [
       "array([[  4.96842008],\n",
       "       [ -8.68028656],\n",
       "       [  3.64477165],\n",
       "       ...,\n",
       "       [ 13.62940747],\n",
       "       [-10.30278642],\n",
       "       [  1.95776978]])"
      ]
     },
     "execution_count": 10,
     "metadata": {},
     "output_type": "execute_result"
    }
   ],
   "source": [
    "mavg_height = 178\n",
    "\n",
    "chosen1 = ncols = 1\n",
    "ntrials = nrows = 10**5\n",
    "\n",
    "guy_heights = np.random.normal(1, 8,(nrows, ncols))\n",
    "guy_heights"
   ]
  },
  {
   "cell_type": "code",
   "execution_count": 11,
   "id": "0047c678",
   "metadata": {},
   "outputs": [
    {
     "data": {
      "text/plain": [
       "array([[-4.19130207],\n",
       "       [ 5.05392131],\n",
       "       [ 7.18348881],\n",
       "       ...,\n",
       "       [-6.605055  ],\n",
       "       [-4.55516745],\n",
       "       [-7.64129639]])"
      ]
     },
     "execution_count": 11,
     "metadata": {},
     "output_type": "execute_result"
    }
   ],
   "source": [
    "wavg_height = 170\n",
    "\n",
    "chosen1 = ncols = 1\n",
    "ntrials = nrows = 10**5\n",
    "\n",
    "girl_heights = np.random.normal(1, 6,(nrows, ncols))\n",
    "girl_heights"
   ]
  },
  {
   "cell_type": "code",
   "execution_count": 13,
   "id": "66a1b7c5",
   "metadata": {},
   "outputs": [
    {
     "data": {
      "text/plain": [
       "array([[160.00630414],\n",
       "       [167.78011631],\n",
       "       [161.54364248],\n",
       "       ...,\n",
       "       [175.78834349],\n",
       "       [171.41684885],\n",
       "       [172.26252746]])"
      ]
     },
     "execution_count": 13,
     "metadata": {},
     "output_type": "execute_result"
    }
   ],
   "source": [
    "women=np.random.normal(wavg_height, 6,(nrows, ncols))\n",
    "women"
   ]
  },
  {
   "cell_type": "code",
   "execution_count": 15,
   "id": "12709c86",
   "metadata": {},
   "outputs": [
    {
     "data": {
      "text/plain": [
       "array([[181.03367464],\n",
       "       [169.93161754],\n",
       "       [167.04667803],\n",
       "       ...,\n",
       "       [175.1392877 ],\n",
       "       [170.13350393],\n",
       "       [172.6108165 ]])"
      ]
     },
     "execution_count": 15,
     "metadata": {},
     "output_type": "execute_result"
    }
   ],
   "source": [
    "men=np.random.normal(mavg_height, 8,(nrows, ncols))\n",
    "men"
   ]
  },
  {
   "cell_type": "code",
   "execution_count": 17,
   "id": "568b8091",
   "metadata": {},
   "outputs": [
    {
     "data": {
      "text/plain": [
       "0.21224"
      ]
     },
     "execution_count": 17,
     "metadata": {},
     "output_type": "execute_result"
    }
   ],
   "source": [
    "(women.sum(axis=1) > men.sum(axis=1)).mean()"
   ]
  },
  {
   "cell_type": "markdown",
   "id": "f8df6c24",
   "metadata": {},
   "source": [
    "#### ANSWER: there is a probability of 0.21 for the woman selected to be taller than the man selected"
   ]
  },
  {
   "cell_type": "markdown",
   "id": "2d65f6bf",
   "metadata": {},
   "source": [
    "___________________________________________________________________"
   ]
  },
  {
   "cell_type": "markdown",
   "id": "00b996f6",
   "metadata": {},
   "source": [
    "### 6) When installing anaconda on a student's computer, there's a 1 in 250 chance that the download is corrupted and the installation fails. \n",
    "\n",
    "- What are the odds that after having 50 students download anaconda, no one has an installation issue? 100 students?\n",
    "\n",
    "- What is the probability that we observe an installation issue within the first 150 students that download anaconda?"
   ]
  },
  {
   "cell_type": "code",
   "execution_count": 94,
   "id": "fb84a2ea",
   "metadata": {},
   "outputs": [],
   "source": [
    "corrupted_dl= 0.004\n",
    "\n",
    "numstudents = ncols = 100 \n",
    "attempts = nrows = 10**5"
   ]
  },
  {
   "cell_type": "code",
   "execution_count": 95,
   "id": "797ff9ad",
   "metadata": {},
   "outputs": [],
   "source": [
    "dl_anaconda=np.random.random ((nrows, ncols))"
   ]
  },
  {
   "cell_type": "code",
   "execution_count": 97,
   "id": "01e72021",
   "metadata": {},
   "outputs": [
    {
     "data": {
      "text/plain": [
       "array([[0.38490473, 0.26828342, 0.25564361, ..., 0.03948761, 0.56931254,\n",
       "        0.82181899],\n",
       "       [0.89608512, 0.5052493 , 0.6384398 , ..., 0.33753791, 0.28022828,\n",
       "        0.28083271],\n",
       "       [0.72565802, 0.08806667, 0.05348701, ..., 0.37938129, 0.55443681,\n",
       "        0.01775028],\n",
       "       ...,\n",
       "       [0.04570286, 0.35678653, 0.58316237, ..., 0.77705172, 0.6239982 ,\n",
       "        0.64766144],\n",
       "       [0.85140992, 0.50826151, 0.34966152, ..., 0.49626068, 0.33678575,\n",
       "        0.45520271],\n",
       "       [0.94441759, 0.06348864, 0.84289128, ..., 0.06690955, 0.53281804,\n",
       "        0.54311091]])"
      ]
     },
     "execution_count": 97,
     "metadata": {},
     "output_type": "execute_result"
    }
   ],
   "source": [
    "dl_anaconda"
   ]
  },
  {
   "cell_type": "code",
   "execution_count": 98,
   "id": "22381824",
   "metadata": {},
   "outputs": [],
   "source": [
    "students_tries = dl_anaconda >= corrupted_dl"
   ]
  },
  {
   "cell_type": "code",
   "execution_count": 99,
   "id": "32cb5edb",
   "metadata": {},
   "outputs": [
    {
     "data": {
      "text/plain": [
       "array([[ True,  True,  True, ...,  True,  True,  True],\n",
       "       [ True,  True,  True, ...,  True,  True,  True],\n",
       "       [ True,  True,  True, ...,  True,  True,  True],\n",
       "       ...,\n",
       "       [ True,  True,  True, ...,  True,  True,  True],\n",
       "       [ True,  True,  True, ...,  True,  True,  True],\n",
       "       [ True,  True,  True, ...,  True,  True,  True]])"
      ]
     },
     "execution_count": 99,
     "metadata": {},
     "output_type": "execute_result"
    }
   ],
   "source": [
    "students_tries"
   ]
  },
  {
   "cell_type": "code",
   "execution_count": 100,
   "id": "fc790ff1",
   "metadata": {},
   "outputs": [
    {
     "data": {
      "text/plain": [
       "array([100, 100, 100, ...,  99, 100, 100])"
      ]
     },
     "execution_count": 100,
     "metadata": {},
     "output_type": "execute_result"
    }
   ],
   "source": [
    "students_tries.sum(axis=1)"
   ]
  },
  {
   "cell_type": "code",
   "execution_count": 101,
   "id": "98a7889a",
   "metadata": {},
   "outputs": [
    {
     "data": {
      "text/plain": [
       "0.66971"
      ]
     },
     "execution_count": 101,
     "metadata": {},
     "output_type": "execute_result"
    }
   ],
   "source": [
    "(students_tries.sum(axis=1) == 100 ).mean()"
   ]
  },
  {
   "cell_type": "markdown",
   "id": "bbf6b650",
   "metadata": {},
   "source": [
    "#### ANSWER: \n",
    "- for 50 students with no download errors there is a <b> 0.82 probability </b>\n",
    "- for 100 students, <b> 0.67 probability </b>\n",
    "- for 150 students where there IS an installation issue, <b> 0.33 probability</b>"
   ]
  },
  {
   "cell_type": "markdown",
   "id": "d19fefb6",
   "metadata": {},
   "source": [
    "_________________________________________________________________"
   ]
  },
  {
   "cell_type": "markdown",
   "id": "2eefb2a6",
   "metadata": {},
   "source": [
    "### 7) There's a 70% chance on any given day that there will be at least one food truck at Travis Park. However, you haven't seen a food truck there in 3 days.\n",
    "\n",
    "- How unlikely is this?\n",
    "\n",
    "- How likely is it that a food truck will show up sometime this week?"
   ]
  },
  {
   "cell_type": "code",
   "execution_count": 193,
   "id": "19ec71c2",
   "metadata": {},
   "outputs": [],
   "source": [
    "chance_of_food=0.70\n",
    "\n",
    "numdays = ncols = 7 \n",
    "trials = nrows = 10**5"
   ]
  },
  {
   "cell_type": "code",
   "execution_count": 194,
   "id": "8f8f806e",
   "metadata": {},
   "outputs": [
    {
     "data": {
      "text/plain": [
       "array([[1, 0, 1, ..., 1, 0, 1],\n",
       "       [1, 1, 1, ..., 1, 0, 1],\n",
       "       [1, 1, 1, ..., 0, 1, 1],\n",
       "       ...,\n",
       "       [1, 0, 0, ..., 1, 0, 1],\n",
       "       [0, 0, 1, ..., 1, 0, 1],\n",
       "       [0, 1, 1, ..., 0, 1, 1]])"
      ]
     },
     "execution_count": 194,
     "metadata": {},
     "output_type": "execute_result"
    }
   ],
   "source": [
    "array_of_trucks=np.random.choice([0,1], nrows * ncols, p = [.3, .7]).reshape(nrows, ncols)\n",
    "array_of_trucks"
   ]
  },
  {
   "cell_type": "code",
   "execution_count": 195,
   "id": "303fc9c2",
   "metadata": {},
   "outputs": [
    {
     "data": {
      "text/plain": [
       "(100000, 7)"
      ]
     },
     "execution_count": 195,
     "metadata": {},
     "output_type": "execute_result"
    }
   ],
   "source": [
    "array_of_trucks.shape"
   ]
  },
  {
   "cell_type": "code",
   "execution_count": 196,
   "id": "13b5f8c3",
   "metadata": {},
   "outputs": [
    {
     "data": {
      "text/plain": [
       "0.99981"
      ]
     },
     "execution_count": 196,
     "metadata": {},
     "output_type": "execute_result"
    }
   ],
   "source": [
    "(array_of_trucks.sum(axis=1) > 0).mean()"
   ]
  },
  {
   "cell_type": "markdown",
   "id": "668e919b",
   "metadata": {},
   "source": [
    "#### ANSWER: \n",
    "- It is 0.02 probability unlikely that there is not a truck\n",
    "- It is 0.99 probability likely that a truck will show this week. "
   ]
  },
  {
   "cell_type": "markdown",
   "id": "96f5943d",
   "metadata": {},
   "source": [
    "_______________________________________________________________________"
   ]
  },
  {
   "cell_type": "markdown",
   "id": "84c42c68",
   "metadata": {},
   "source": [
    "### 8) If 23 people are in the same room, what are the odds that two of them share a birthday? \n",
    "- What if it's 20 people? \n",
    "- 40?"
   ]
  },
  {
   "cell_type": "code",
   "execution_count": 223,
   "id": "1355b270",
   "metadata": {},
   "outputs": [],
   "source": [
    "n_rows = 10_000\n",
    "n_cols = 23 \n",
    "\n",
    "birthdays = np.random.choice(range(365), size = (n_rows, n_cols))\n",
    "birthdays = pd.DataFrame(birthdays)\n",
    "birthdays['n_unique']=birthdays.nunique(axis=1)"
   ]
  },
  {
   "cell_type": "code",
   "execution_count": 224,
   "id": "321bbe53",
   "metadata": {},
   "outputs": [
    {
     "data": {
      "text/plain": [
       "0.5032"
      ]
     },
     "execution_count": 224,
     "metadata": {},
     "output_type": "execute_result"
    }
   ],
   "source": [
    "(birthdays.n_unique != 23).mean()"
   ]
  },
  {
   "cell_type": "markdown",
   "id": "6fd8cd7d",
   "metadata": {},
   "source": [
    "ANSWER:  0.50 probability of 2 people out of 23 to share the same birthday"
   ]
  },
  {
   "cell_type": "code",
   "execution_count": null,
   "id": "fb894bd0",
   "metadata": {},
   "outputs": [],
   "source": []
  }
 ],
 "metadata": {
  "kernelspec": {
   "display_name": "Python 3 (ipykernel)",
   "language": "python",
   "name": "python3"
  },
  "language_info": {
   "codemirror_mode": {
    "name": "ipython",
    "version": 3
   },
   "file_extension": ".py",
   "mimetype": "text/x-python",
   "name": "python",
   "nbconvert_exporter": "python",
   "pygments_lexer": "ipython3",
   "version": "3.9.7"
  }
 },
 "nbformat": 4,
 "nbformat_minor": 5
}
