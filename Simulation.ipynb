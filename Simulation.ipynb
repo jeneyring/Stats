{
 "cells": [
  {
   "cell_type": "code",
   "execution_count": 66,
   "id": "35f192ea",
   "metadata": {},
   "outputs": [],
   "source": [
    "%matplotlib inline\n",
    "import numpy as np\n",
    "import pandas as pd\n",
    "\n",
    "np.random.seed(29)"
   ]
  },
  {
   "cell_type": "markdown",
   "id": "1f6d4db9",
   "metadata": {},
   "source": [
    "### 1) How likely is it that you roll doubles when rolling two dice?"
   ]
  },
  {
   "cell_type": "code",
   "execution_count": 2,
   "id": "5d225f21",
   "metadata": {},
   "outputs": [],
   "source": [
    "n_trials = nrows = 10**5\n",
    "n_dice = ncols = 2"
   ]
  },
  {
   "cell_type": "code",
   "execution_count": 3,
   "id": "6436ce17",
   "metadata": {},
   "outputs": [
    {
     "data": {
      "text/plain": [
       "array([[6, 4],\n",
       "       [5, 6],\n",
       "       [3, 1],\n",
       "       ...,\n",
       "       [5, 6],\n",
       "       [5, 5],\n",
       "       [6, 5]])"
      ]
     },
     "execution_count": 3,
     "metadata": {},
     "output_type": "execute_result"
    }
   ],
   "source": [
    "rolls = np.random.choice([1, 2, 3, 4, 5, 6], n_trials * n_dice).reshape(nrows, ncols)\n",
    "rolls"
   ]
  },
  {
   "cell_type": "code",
   "execution_count": 4,
   "id": "09ce0454",
   "metadata": {},
   "outputs": [],
   "source": [
    "#create a dataframe to get columns for rolls\n",
    "\n",
    "rolls = (pd.DataFrame(rolls))"
   ]
  },
  {
   "cell_type": "code",
   "execution_count": 5,
   "id": "c6fd5657",
   "metadata": {},
   "outputs": [
    {
     "data": {
      "text/html": [
       "<div>\n",
       "<style scoped>\n",
       "    .dataframe tbody tr th:only-of-type {\n",
       "        vertical-align: middle;\n",
       "    }\n",
       "\n",
       "    .dataframe tbody tr th {\n",
       "        vertical-align: top;\n",
       "    }\n",
       "\n",
       "    .dataframe thead th {\n",
       "        text-align: right;\n",
       "    }\n",
       "</style>\n",
       "<table border=\"1\" class=\"dataframe\">\n",
       "  <thead>\n",
       "    <tr style=\"text-align: right;\">\n",
       "      <th></th>\n",
       "      <th>0</th>\n",
       "      <th>1</th>\n",
       "    </tr>\n",
       "  </thead>\n",
       "  <tbody>\n",
       "    <tr>\n",
       "      <th>0</th>\n",
       "      <td>6</td>\n",
       "      <td>4</td>\n",
       "    </tr>\n",
       "    <tr>\n",
       "      <th>1</th>\n",
       "      <td>5</td>\n",
       "      <td>6</td>\n",
       "    </tr>\n",
       "    <tr>\n",
       "      <th>2</th>\n",
       "      <td>3</td>\n",
       "      <td>1</td>\n",
       "    </tr>\n",
       "    <tr>\n",
       "      <th>3</th>\n",
       "      <td>1</td>\n",
       "      <td>2</td>\n",
       "    </tr>\n",
       "    <tr>\n",
       "      <th>4</th>\n",
       "      <td>2</td>\n",
       "      <td>1</td>\n",
       "    </tr>\n",
       "  </tbody>\n",
       "</table>\n",
       "</div>"
      ],
      "text/plain": [
       "   0  1\n",
       "0  6  4\n",
       "1  5  6\n",
       "2  3  1\n",
       "3  1  2\n",
       "4  2  1"
      ]
     },
     "execution_count": 5,
     "metadata": {},
     "output_type": "execute_result"
    }
   ],
   "source": [
    "rolls.head()"
   ]
  },
  {
   "cell_type": "code",
   "execution_count": 6,
   "id": "bbd20534",
   "metadata": {},
   "outputs": [
    {
     "data": {
      "text/plain": [
       "RangeIndex(start=0, stop=2, step=1)"
      ]
     },
     "execution_count": 6,
     "metadata": {},
     "output_type": "execute_result"
    }
   ],
   "source": [
    "rolls.columns"
   ]
  },
  {
   "cell_type": "code",
   "execution_count": 7,
   "id": "ec3926cf",
   "metadata": {},
   "outputs": [],
   "source": [
    "#name the columns (roll vs roll2)\n",
    "rolls.columns = ['rolls1','rolls2']"
   ]
  },
  {
   "cell_type": "code",
   "execution_count": 8,
   "id": "1b916f86",
   "metadata": {},
   "outputs": [
    {
     "data": {
      "text/html": [
       "<div>\n",
       "<style scoped>\n",
       "    .dataframe tbody tr th:only-of-type {\n",
       "        vertical-align: middle;\n",
       "    }\n",
       "\n",
       "    .dataframe tbody tr th {\n",
       "        vertical-align: top;\n",
       "    }\n",
       "\n",
       "    .dataframe thead th {\n",
       "        text-align: right;\n",
       "    }\n",
       "</style>\n",
       "<table border=\"1\" class=\"dataframe\">\n",
       "  <thead>\n",
       "    <tr style=\"text-align: right;\">\n",
       "      <th></th>\n",
       "      <th>rolls1</th>\n",
       "      <th>rolls2</th>\n",
       "    </tr>\n",
       "  </thead>\n",
       "  <tbody>\n",
       "    <tr>\n",
       "      <th>0</th>\n",
       "      <td>6</td>\n",
       "      <td>4</td>\n",
       "    </tr>\n",
       "    <tr>\n",
       "      <th>1</th>\n",
       "      <td>5</td>\n",
       "      <td>6</td>\n",
       "    </tr>\n",
       "    <tr>\n",
       "      <th>2</th>\n",
       "      <td>3</td>\n",
       "      <td>1</td>\n",
       "    </tr>\n",
       "    <tr>\n",
       "      <th>3</th>\n",
       "      <td>1</td>\n",
       "      <td>2</td>\n",
       "    </tr>\n",
       "    <tr>\n",
       "      <th>4</th>\n",
       "      <td>2</td>\n",
       "      <td>1</td>\n",
       "    </tr>\n",
       "  </tbody>\n",
       "</table>\n",
       "</div>"
      ],
      "text/plain": [
       "   rolls1  rolls2\n",
       "0       6       4\n",
       "1       5       6\n",
       "2       3       1\n",
       "3       1       2\n",
       "4       2       1"
      ]
     },
     "execution_count": 8,
     "metadata": {},
     "output_type": "execute_result"
    }
   ],
   "source": [
    "rolls.head()"
   ]
  },
  {
   "cell_type": "code",
   "execution_count": 9,
   "id": "3c1ab3bc",
   "metadata": {},
   "outputs": [
    {
     "data": {
      "text/plain": [
       "0.16645"
      ]
     },
     "execution_count": 9,
     "metadata": {},
     "output_type": "execute_result"
    }
   ],
   "source": [
    "#find the average of doubles rolled\n",
    "(rolls.rolls1 == rolls.rolls2).mean()"
   ]
  },
  {
   "cell_type": "markdown",
   "id": "36a51afa",
   "metadata": {},
   "source": [
    "note: this makes sense as the probablity of two dice rolls being doubles as a 6:36 chance (6 sided dice X 6) and 0.16 = 1/6"
   ]
  },
  {
   "cell_type": "markdown",
   "id": "e32cb3df",
   "metadata": {},
   "source": [
    "### 2) If you flip 8 coins, what is the probability of getting exactly 3 heads? What is the probability of getting more than 3 heads?"
   ]
  },
  {
   "cell_type": "code",
   "execution_count": 10,
   "id": "6e295a1b",
   "metadata": {},
   "outputs": [],
   "source": [
    "n_trials = nrows = 10 **5\n",
    "n_dice = ncols = 8 # for flipping 8 coins at once"
   ]
  },
  {
   "cell_type": "code",
   "execution_count": 11,
   "id": "a6d570db",
   "metadata": {},
   "outputs": [
    {
     "data": {
      "text/plain": [
       "array([[1, 0, 0, ..., 1, 0, 0],\n",
       "       [0, 0, 1, ..., 0, 1, 1],\n",
       "       [0, 0, 1, ..., 0, 0, 0],\n",
       "       ...,\n",
       "       [1, 0, 0, ..., 1, 0, 0],\n",
       "       [1, 0, 0, ..., 1, 0, 1],\n",
       "       [0, 0, 0, ..., 0, 1, 0]])"
      ]
     },
     "execution_count": 11,
     "metadata": {},
     "output_type": "execute_result"
    }
   ],
   "source": [
    "toss = np.random.choice([0, 1], n_trials * n_dice).reshape(nrows, ncols)\n",
    "toss"
   ]
  },
  {
   "cell_type": "code",
   "execution_count": 12,
   "id": "2b71c1f8",
   "metadata": {},
   "outputs": [
    {
     "data": {
      "text/plain": [
       "(100000, 8)"
      ]
     },
     "execution_count": 12,
     "metadata": {},
     "output_type": "execute_result"
    }
   ],
   "source": [
    "#create a dataframe to get columns for rolls\n",
    "\n",
    "coin_toss = (pd.DataFrame(toss))\n",
    "coin_toss.shape"
   ]
  },
  {
   "cell_type": "code",
   "execution_count": 13,
   "id": "d45601d8",
   "metadata": {},
   "outputs": [
    {
     "data": {
      "text/html": [
       "<div>\n",
       "<style scoped>\n",
       "    .dataframe tbody tr th:only-of-type {\n",
       "        vertical-align: middle;\n",
       "    }\n",
       "\n",
       "    .dataframe tbody tr th {\n",
       "        vertical-align: top;\n",
       "    }\n",
       "\n",
       "    .dataframe thead th {\n",
       "        text-align: right;\n",
       "    }\n",
       "</style>\n",
       "<table border=\"1\" class=\"dataframe\">\n",
       "  <thead>\n",
       "    <tr style=\"text-align: right;\">\n",
       "      <th></th>\n",
       "      <th>0</th>\n",
       "      <th>1</th>\n",
       "      <th>2</th>\n",
       "      <th>3</th>\n",
       "      <th>4</th>\n",
       "      <th>5</th>\n",
       "      <th>6</th>\n",
       "      <th>7</th>\n",
       "    </tr>\n",
       "  </thead>\n",
       "  <tbody>\n",
       "    <tr>\n",
       "      <th>0</th>\n",
       "      <td>1</td>\n",
       "      <td>0</td>\n",
       "      <td>0</td>\n",
       "      <td>1</td>\n",
       "      <td>1</td>\n",
       "      <td>1</td>\n",
       "      <td>0</td>\n",
       "      <td>0</td>\n",
       "    </tr>\n",
       "    <tr>\n",
       "      <th>1</th>\n",
       "      <td>0</td>\n",
       "      <td>0</td>\n",
       "      <td>1</td>\n",
       "      <td>1</td>\n",
       "      <td>1</td>\n",
       "      <td>0</td>\n",
       "      <td>1</td>\n",
       "      <td>1</td>\n",
       "    </tr>\n",
       "    <tr>\n",
       "      <th>2</th>\n",
       "      <td>0</td>\n",
       "      <td>0</td>\n",
       "      <td>1</td>\n",
       "      <td>0</td>\n",
       "      <td>1</td>\n",
       "      <td>0</td>\n",
       "      <td>0</td>\n",
       "      <td>0</td>\n",
       "    </tr>\n",
       "    <tr>\n",
       "      <th>3</th>\n",
       "      <td>0</td>\n",
       "      <td>0</td>\n",
       "      <td>1</td>\n",
       "      <td>1</td>\n",
       "      <td>1</td>\n",
       "      <td>1</td>\n",
       "      <td>0</td>\n",
       "      <td>0</td>\n",
       "    </tr>\n",
       "    <tr>\n",
       "      <th>4</th>\n",
       "      <td>1</td>\n",
       "      <td>1</td>\n",
       "      <td>1</td>\n",
       "      <td>0</td>\n",
       "      <td>0</td>\n",
       "      <td>0</td>\n",
       "      <td>1</td>\n",
       "      <td>1</td>\n",
       "    </tr>\n",
       "  </tbody>\n",
       "</table>\n",
       "</div>"
      ],
      "text/plain": [
       "   0  1  2  3  4  5  6  7\n",
       "0  1  0  0  1  1  1  0  0\n",
       "1  0  0  1  1  1  0  1  1\n",
       "2  0  0  1  0  1  0  0  0\n",
       "3  0  0  1  1  1  1  0  0\n",
       "4  1  1  1  0  0  0  1  1"
      ]
     },
     "execution_count": 13,
     "metadata": {},
     "output_type": "execute_result"
    }
   ],
   "source": [
    "coin_toss.head()"
   ]
  },
  {
   "cell_type": "code",
   "execution_count": 14,
   "id": "89512b8d",
   "metadata": {},
   "outputs": [
    {
     "data": {
      "text/plain": [
       "RangeIndex(start=0, stop=8, step=1)"
      ]
     },
     "execution_count": 14,
     "metadata": {},
     "output_type": "execute_result"
    }
   ],
   "source": [
    "coin_toss.columns"
   ]
  },
  {
   "cell_type": "code",
   "execution_count": 15,
   "id": "350a1ec2",
   "metadata": {},
   "outputs": [],
   "source": [
    "coin_toss.columns = ['t1','t2','t3','t4','t5','t6','t7','t8']"
   ]
  },
  {
   "cell_type": "code",
   "execution_count": 16,
   "id": "0a9ccb00",
   "metadata": {},
   "outputs": [
    {
     "data": {
      "text/plain": [
       "Index(['t1', 't2', 't3', 't4', 't5', 't6', 't7', 't8'], dtype='object')"
      ]
     },
     "execution_count": 16,
     "metadata": {},
     "output_type": "execute_result"
    }
   ],
   "source": [
    "coin_toss.columns"
   ]
  },
  {
   "cell_type": "code",
   "execution_count": 17,
   "id": "29ada01c",
   "metadata": {},
   "outputs": [
    {
     "data": {
      "text/plain": [
       "0        4\n",
       "1        5\n",
       "2        2\n",
       "3        4\n",
       "4        5\n",
       "        ..\n",
       "99995    5\n",
       "99996    4\n",
       "99997    3\n",
       "99998    3\n",
       "99999    3\n",
       "Length: 100000, dtype: int64"
      ]
     },
     "execution_count": 17,
     "metadata": {},
     "output_type": "execute_result"
    }
   ],
   "source": [
    "coin_toss.sum(axis=1) "
   ]
  },
  {
   "cell_type": "code",
   "execution_count": 18,
   "id": "302d5653",
   "metadata": {},
   "outputs": [
    {
     "data": {
      "text/plain": [
       "0        False\n",
       "1        False\n",
       "2        False\n",
       "3        False\n",
       "4        False\n",
       "         ...  \n",
       "99995    False\n",
       "99996    False\n",
       "99997     True\n",
       "99998     True\n",
       "99999     True\n",
       "Length: 100000, dtype: bool"
      ]
     },
     "execution_count": 18,
     "metadata": {},
     "output_type": "execute_result"
    }
   ],
   "source": [
    "coin_toss.sum(axis=1) == 3"
   ]
  },
  {
   "cell_type": "code",
   "execution_count": 19,
   "id": "324bf476",
   "metadata": {},
   "outputs": [
    {
     "data": {
      "text/plain": [
       "0.2188"
      ]
     },
     "execution_count": 19,
     "metadata": {},
     "output_type": "execute_result"
    }
   ],
   "source": [
    "(coin_toss.sum(axis=1) == 3).mean()"
   ]
  },
  {
   "cell_type": "markdown",
   "id": "6fcadb3d",
   "metadata": {},
   "source": [
    "#### ANSWER: a 0.22 probability rate"
   ]
  },
  {
   "cell_type": "code",
   "execution_count": 48,
   "id": "2cd30314",
   "metadata": {},
   "outputs": [
    {
     "data": {
      "text/plain": [
       "0.63588"
      ]
     },
     "execution_count": 48,
     "metadata": {},
     "output_type": "execute_result"
    }
   ],
   "source": [
    "# What's the probability of getting more than 3 heads?\n",
    "(coin_toss.sum(axis=1) > 3).mean()"
   ]
  },
  {
   "cell_type": "code",
   "execution_count": 20,
   "id": "f9bd60b4",
   "metadata": {},
   "outputs": [],
   "source": [
    "### (toss.sum(axis=1) == 3).mean() note: IF I want an array, I could just run everything that is not part or or named the df and call as the array"
   ]
  },
  {
   "cell_type": "markdown",
   "id": "6215b4d2",
   "metadata": {},
   "source": [
    "### 3) There are approximitely 3 web development cohorts for every 1 data science cohort at Codeup. Assuming that Codeup randomly selects an alumni to put on a billboard, what are the odds that the two billboards I drive past both have data science students on them?"
   ]
  },
  {
   "cell_type": "code",
   "execution_count": 59,
   "id": "0612f77a",
   "metadata": {},
   "outputs": [],
   "source": [
    "n_rows= 10_000\n",
    "n_cols= 2 # for 2 billboards\n",
    "\n",
    "billboards = np.random.choice(['Web Development', 'Data Science'], p=[.75, .25], size=(n_rows, n_cols))\n",
    "billboards = pd.DataFrame(billboards)"
   ]
  },
  {
   "cell_type": "code",
   "execution_count": 60,
   "id": "0a4da800",
   "metadata": {},
   "outputs": [
    {
     "data": {
      "text/html": [
       "<div>\n",
       "<style scoped>\n",
       "    .dataframe tbody tr th:only-of-type {\n",
       "        vertical-align: middle;\n",
       "    }\n",
       "\n",
       "    .dataframe tbody tr th {\n",
       "        vertical-align: top;\n",
       "    }\n",
       "\n",
       "    .dataframe thead th {\n",
       "        text-align: right;\n",
       "    }\n",
       "</style>\n",
       "<table border=\"1\" class=\"dataframe\">\n",
       "  <thead>\n",
       "    <tr style=\"text-align: right;\">\n",
       "      <th></th>\n",
       "      <th>0</th>\n",
       "      <th>1</th>\n",
       "    </tr>\n",
       "  </thead>\n",
       "  <tbody>\n",
       "    <tr>\n",
       "      <th>0</th>\n",
       "      <td>Web Development</td>\n",
       "      <td>Web Development</td>\n",
       "    </tr>\n",
       "    <tr>\n",
       "      <th>1</th>\n",
       "      <td>Web Development</td>\n",
       "      <td>Web Development</td>\n",
       "    </tr>\n",
       "    <tr>\n",
       "      <th>2</th>\n",
       "      <td>Data Science</td>\n",
       "      <td>Web Development</td>\n",
       "    </tr>\n",
       "    <tr>\n",
       "      <th>3</th>\n",
       "      <td>Web Development</td>\n",
       "      <td>Data Science</td>\n",
       "    </tr>\n",
       "    <tr>\n",
       "      <th>4</th>\n",
       "      <td>Web Development</td>\n",
       "      <td>Web Development</td>\n",
       "    </tr>\n",
       "    <tr>\n",
       "      <th>...</th>\n",
       "      <td>...</td>\n",
       "      <td>...</td>\n",
       "    </tr>\n",
       "    <tr>\n",
       "      <th>9995</th>\n",
       "      <td>Web Development</td>\n",
       "      <td>Web Development</td>\n",
       "    </tr>\n",
       "    <tr>\n",
       "      <th>9996</th>\n",
       "      <td>Web Development</td>\n",
       "      <td>Web Development</td>\n",
       "    </tr>\n",
       "    <tr>\n",
       "      <th>9997</th>\n",
       "      <td>Data Science</td>\n",
       "      <td>Web Development</td>\n",
       "    </tr>\n",
       "    <tr>\n",
       "      <th>9998</th>\n",
       "      <td>Web Development</td>\n",
       "      <td>Web Development</td>\n",
       "    </tr>\n",
       "    <tr>\n",
       "      <th>9999</th>\n",
       "      <td>Web Development</td>\n",
       "      <td>Web Development</td>\n",
       "    </tr>\n",
       "  </tbody>\n",
       "</table>\n",
       "<p>10000 rows × 2 columns</p>\n",
       "</div>"
      ],
      "text/plain": [
       "                    0                1\n",
       "0     Web Development  Web Development\n",
       "1     Web Development  Web Development\n",
       "2        Data Science  Web Development\n",
       "3     Web Development     Data Science\n",
       "4     Web Development  Web Development\n",
       "...               ...              ...\n",
       "9995  Web Development  Web Development\n",
       "9996  Web Development  Web Development\n",
       "9997     Data Science  Web Development\n",
       "9998  Web Development  Web Development\n",
       "9999  Web Development  Web Development\n",
       "\n",
       "[10000 rows x 2 columns]"
      ]
     },
     "execution_count": 60,
     "metadata": {},
     "output_type": "execute_result"
    }
   ],
   "source": [
    "billboards #to see our df"
   ]
  },
  {
   "cell_type": "code",
   "execution_count": 61,
   "id": "edced70a",
   "metadata": {},
   "outputs": [
    {
     "data": {
      "text/plain": [
       "0.0646"
      ]
     },
     "execution_count": 61,
     "metadata": {},
     "output_type": "execute_result"
    }
   ],
   "source": [
    "billboards ['number_of_data_science'] = (billboards == 'Data Science').sum(axis=1)\n",
    "#created a new column that only counts True or False for ds students\n",
    "\n",
    "(billboards.number_of_data_science == 2).mean()\n",
    "#if both billboards are True, it equals 2"
   ]
  },
  {
   "cell_type": "markdown",
   "id": "9f8bb2dd",
   "metadata": {},
   "source": [
    "#### ANSWER: a probablity of 0.06"
   ]
  },
  {
   "cell_type": "code",
   "execution_count": null,
   "id": "5e2e6ffc",
   "metadata": {},
   "outputs": [],
   "source": []
  },
  {
   "cell_type": "markdown",
   "id": "dae6d74f",
   "metadata": {},
   "source": [
    "### 4) Codeup students buy, on average, 3 poptart packages with a standard deviation of 1.5 a day from the snack vending machine. If on monday the machine is restocked with 17 poptart packages, how likely is it that I will be able to buy some poptarts on Friday afternoon? (Remember, if you have mean and standard deviation, use the np.random.normal)"
   ]
  },
  {
   "cell_type": "code",
   "execution_count": 26,
   "id": "df965526",
   "metadata": {},
   "outputs": [],
   "source": [
    "avg_tarts=3\n",
    "\n",
    "days = ncols = 5\n",
    "ntrials = nrows = 10**5"
   ]
  },
  {
   "cell_type": "code",
   "execution_count": 27,
   "id": "17cdc4a1",
   "metadata": {},
   "outputs": [
    {
     "data": {
      "text/plain": [
       "array([[ 2.,  4.,  5.,  4.,  3.],\n",
       "       [-1.,  3.,  4.,  4.,  2.],\n",
       "       [ 1.,  3.,  5.,  5.,  2.],\n",
       "       ...,\n",
       "       [ 5.,  2.,  6.,  5.,  2.],\n",
       "       [ 4.,  2.,  2.,  2.,  2.],\n",
       "       [ 1.,  2.,  4.,  4.,  3.]])"
      ]
     },
     "execution_count": 27,
     "metadata": {},
     "output_type": "execute_result"
    }
   ],
   "source": [
    "\n",
    "poptarts = np.random.normal(3, 1.5, size =(nrows, ncols)).round()\n",
    "poptarts"
   ]
  },
  {
   "cell_type": "code",
   "execution_count": 28,
   "id": "e506840f",
   "metadata": {},
   "outputs": [
    {
     "data": {
      "text/plain": [
       "0.67159"
      ]
     },
     "execution_count": 28,
     "metadata": {},
     "output_type": "execute_result"
    }
   ],
   "source": [
    "(poptarts.sum(axis=1) < 17).mean()\n",
    "\n",
    "##note: can apply an absolute to make the dataset be only positive numbers (as the direction of poptart inventory is forward)"
   ]
  },
  {
   "cell_type": "markdown",
   "id": "b67c61d6",
   "metadata": {},
   "source": [
    "#### ANSWER: 0.67 probability"
   ]
  },
  {
   "cell_type": "code",
   "execution_count": null,
   "id": "8b08bb43",
   "metadata": {},
   "outputs": [],
   "source": []
  },
  {
   "cell_type": "markdown",
   "id": "3bd2bc20",
   "metadata": {},
   "source": [
    "### 5) Compare Heights"
   ]
  },
  {
   "cell_type": "markdown",
   "id": "c254cdbd",
   "metadata": {},
   "source": [
    "- Men have an average height of 178 cm and standard deviation of 8cm.\n",
    "- Women have a mean of 170, sd = 6cm.\n",
    "\n",
    "Since you have means and standard deviations, you can use np.random.normal to generate observations.\n",
    "\n",
    "If a man and woman are chosen at random, what is the likelihood the woman is taller than the man?"
   ]
  },
  {
   "cell_type": "code",
   "execution_count": 63,
   "id": "bb9984f5",
   "metadata": {},
   "outputs": [
    {
     "data": {
      "text/plain": [
       "0.2104"
      ]
     },
     "execution_count": 63,
     "metadata": {},
     "output_type": "execute_result"
    }
   ],
   "source": [
    "m_heights = np.random.normal(178, 8, size=10_000)\n",
    "f_heights = np.random.normal(170, 6, size=10_000)\n",
    "(f_heights > m_heights).mean()"
   ]
  },
  {
   "cell_type": "markdown",
   "id": "f8df6c24",
   "metadata": {},
   "source": [
    "#### ANSWER: there is a probability of 0.21 for the woman selected to be taller than the man selected"
   ]
  },
  {
   "cell_type": "markdown",
   "id": "2d65f6bf",
   "metadata": {},
   "source": [
    "___________________________________________________________________"
   ]
  },
  {
   "cell_type": "markdown",
   "id": "00b996f6",
   "metadata": {},
   "source": [
    "### 6) When installing anaconda on a student's computer, there's a 1 in 250 chance that the download is corrupted and the installation fails. \n",
    "\n",
    "- What are the odds that after having 50 students download anaconda, no one has an installation issue? 100 students?\n",
    "\n",
    "- What is the probability that we observe an installation issue within the first 150 students that download anaconda?"
   ]
  },
  {
   "cell_type": "code",
   "execution_count": 69,
   "id": "fb84a2ea",
   "metadata": {},
   "outputs": [
    {
     "data": {
      "text/plain": [
       "0.81695"
      ]
     },
     "execution_count": 69,
     "metadata": {},
     "output_type": "execute_result"
    }
   ],
   "source": [
    "#Probability of NO install issues\n",
    "n_rows = 100_000\n",
    "n_columns = 50\n",
    "\n",
    "installs = np.random.choice([0, 1], p=[0.004, 0.996], size=(n_rows, n_columns))\n",
    "\n",
    "(installs.sum(axis=1) == 50).mean()"
   ]
  },
  {
   "cell_type": "code",
   "execution_count": 71,
   "id": "797ff9ad",
   "metadata": {},
   "outputs": [
    {
     "data": {
      "text/plain": [
       "0.67244"
      ]
     },
     "execution_count": 71,
     "metadata": {},
     "output_type": "execute_result"
    }
   ],
   "source": [
    "#Probability of NO install issues with 100 students\n",
    "n_columns=100\n",
    "\n",
    "installs = np.random.choice([0, 1], p=[0.004, 0.996], size=(n_rows, n_columns))\n",
    "(installs.sum(axis=1) == 100).mean()"
   ]
  },
  {
   "cell_type": "code",
   "execution_count": 72,
   "id": "01e72021",
   "metadata": {},
   "outputs": [
    {
     "data": {
      "text/plain": [
       "0.54808"
      ]
     },
     "execution_count": 72,
     "metadata": {},
     "output_type": "execute_result"
    }
   ],
   "source": [
    "#Probability of NO install issues with 150 students\n",
    "\n",
    "n_columns=150\n",
    "installs = np.random.choice([0, 1], p=[0.004, 0.996], size=(n_rows, n_columns))\n",
    "(installs.sum(axis=1) == 150).mean()"
   ]
  },
  {
   "cell_type": "code",
   "execution_count": 74,
   "id": "22381824",
   "metadata": {},
   "outputs": [
    {
     "data": {
      "text/plain": [
       "0.16696"
      ]
     },
     "execution_count": 74,
     "metadata": {},
     "output_type": "execute_result"
    }
   ],
   "source": [
    "#Probability of 450 students having NO install issues?\n",
    "\n",
    "n_columns=450\n",
    "installs = np.random.choice([0, 1], p=[0.004, 0.996], size=(n_rows, n_columns))\n",
    "(installs.sum(axis=1) == 450).mean()"
   ]
  },
  {
   "cell_type": "markdown",
   "id": "bbf6b650",
   "metadata": {},
   "source": [
    "#### ANSWER: \n",
    "- for 50 students with no download errors there is a <b> 0.82 probability </b>\n",
    "- for 100 students, <b> 0.67 probability </b>\n",
    "- for 150 students where there IS NO installation issue, <b> 0.55 probability</b>\n",
    "- for 450 students where there IS NO installation issue, <b> 0.17 probability</b>"
   ]
  },
  {
   "cell_type": "markdown",
   "id": "d19fefb6",
   "metadata": {},
   "source": [
    "_________________________________________________________________"
   ]
  },
  {
   "cell_type": "markdown",
   "id": "2eefb2a6",
   "metadata": {},
   "source": [
    "### 7) There's a 70% chance on any given day that there will be at least one food truck at Travis Park. However, you haven't seen a food truck there in 3 days.\n",
    "\n",
    "- How unlikely is this?\n",
    "\n",
    "- How likely is it that a food truck will show up sometime this week?"
   ]
  },
  {
   "cell_type": "code",
   "execution_count": 75,
   "id": "19ec71c2",
   "metadata": {},
   "outputs": [],
   "source": [
    "n_rows=10_000\n",
    "n_cols=3 #represents 3 days in a row\n",
    "\n",
    "trucks = np.random.choice([1,0], size =(n_rows, n_cols), p = [0.7, 0.3])"
   ]
  },
  {
   "cell_type": "code",
   "execution_count": 76,
   "id": "8f8f806e",
   "metadata": {},
   "outputs": [
    {
     "data": {
      "text/plain": [
       "0.0258"
      ]
     },
     "execution_count": 76,
     "metadata": {},
     "output_type": "execute_result"
    }
   ],
   "source": [
    "#What is the probability of not seeing a food truck in 3 days?\n",
    "(trucks.sum(axis=1) == 0).mean()"
   ]
  },
  {
   "cell_type": "code",
   "execution_count": 77,
   "id": "303fc9c2",
   "metadata": {},
   "outputs": [
    {
     "data": {
      "text/plain": [
       "0.9111"
      ]
     },
     "execution_count": 77,
     "metadata": {},
     "output_type": "execute_result"
    }
   ],
   "source": [
    "#What is the probability of seeing a food truck in the next 2 days? (5 day workweek)\n",
    "# Remember: food truck presence is independant\n",
    "n_cols = 2 #for 2 days in a row\n",
    "\n",
    "trucks = np.random.choice([1,0], size =(n_rows, n_cols), p = [0.7, 0.3])\n",
    "(trucks.sum(axis=1) > 0).mean()"
   ]
  },
  {
   "cell_type": "markdown",
   "id": "668e919b",
   "metadata": {},
   "source": [
    "#### ANSWER: \n",
    "- It is 0.03 probability unlikely that there is not a truck\n",
    "- It is 0.91 probability likely that a truck will show this week. "
   ]
  },
  {
   "cell_type": "markdown",
   "id": "96f5943d",
   "metadata": {},
   "source": [
    "_______________________________________________________________________"
   ]
  },
  {
   "cell_type": "markdown",
   "id": "84c42c68",
   "metadata": {},
   "source": [
    "### 8) If 23 people are in the same room, what are the odds that two of them share a birthday? \n",
    "- What if it's 20 people? \n",
    "- 40?"
   ]
  },
  {
   "cell_type": "code",
   "execution_count": 78,
   "id": "1355b270",
   "metadata": {},
   "outputs": [],
   "source": [
    "n_rows = 10_000\n",
    "n_cols = 23 \n",
    "\n",
    "birthdays = np.random.choice(range(365), size = (n_rows, n_cols))\n",
    "birthdays = pd.DataFrame(birthdays)\n",
    "birthdays['n_unique']=birthdays.nunique(axis=1)"
   ]
  },
  {
   "cell_type": "code",
   "execution_count": 79,
   "id": "321bbe53",
   "metadata": {},
   "outputs": [
    {
     "data": {
      "text/plain": [
       "0.5023"
      ]
     },
     "execution_count": 79,
     "metadata": {},
     "output_type": "execute_result"
    }
   ],
   "source": [
    "(birthdays.n_unique != 23).mean()"
   ]
  },
  {
   "cell_type": "markdown",
   "id": "6fd8cd7d",
   "metadata": {},
   "source": [
    "ANSWER:  0.50 probability of 2 people out of 23 to share the same birthday"
   ]
  },
  {
   "cell_type": "code",
   "execution_count": 80,
   "id": "fb894bd0",
   "metadata": {},
   "outputs": [
    {
     "data": {
      "text/plain": [
       "0.4159"
      ]
     },
     "execution_count": 80,
     "metadata": {},
     "output_type": "execute_result"
    }
   ],
   "source": [
    "#What is the probability of two people having same birthday in a room of 20 people?\n",
    "n_rows = 10_000\n",
    "n_cols = 20 \n",
    "\n",
    "birthdays = np.random.choice(range(365), size = (n_rows, n_cols))\n",
    "birthdays = pd.DataFrame(birthdays)\n",
    "birthdays['n_unique']=birthdays.nunique(axis=1)\n",
    "\n",
    "(birthdays.n_unique != 20).mean()"
   ]
  },
  {
   "cell_type": "markdown",
   "id": "0a354520",
   "metadata": {},
   "source": [
    "ANSWER:  0.42 probability of 2 people out of 20 to share the same birthday"
   ]
  },
  {
   "cell_type": "code",
   "execution_count": 81,
   "id": "0887ea8d",
   "metadata": {},
   "outputs": [
    {
     "data": {
      "text/plain": [
       "0.8886"
      ]
     },
     "execution_count": 81,
     "metadata": {},
     "output_type": "execute_result"
    }
   ],
   "source": [
    "#What is the probability out of 40 people?\n",
    "n_rows = 10_000\n",
    "n_cols = 40 \n",
    "\n",
    "birthdays = np.random.choice(range(365), size = (n_rows, n_cols))\n",
    "birthdays = pd.DataFrame(birthdays)\n",
    "birthdays['n_unique']=birthdays.nunique(axis=1)\n",
    "\n",
    "(birthdays.n_unique != 40).mean()"
   ]
  },
  {
   "cell_type": "markdown",
   "id": "9ed46730",
   "metadata": {},
   "source": [
    "ANSWER:  0.89 probability of 2 people out of 40 to share the same birthday"
   ]
  },
  {
   "cell_type": "code",
   "execution_count": 83,
   "id": "26278f8c",
   "metadata": {},
   "outputs": [],
   "source": [
    "### Graph this out....\n",
    "\n",
    "#What if there are rooms of increasing size?\n",
    "\n",
    "x=range(1,100)\n",
    "\n",
    "#N will be a list of N for each room size\n",
    "N = [n * (n-1) / 2 for n in x]\n",
    "\n",
    "#Get the probability for each N\n",
    "y = [1-(364/365)**n for n in N]"
   ]
  },
  {
   "cell_type": "code",
   "execution_count": 86,
   "id": "c46e0844",
   "metadata": {},
   "outputs": [
    {
     "data": {
      "text/plain": [
       "Text(0, 0.5, 'Probability')"
      ]
     },
     "execution_count": 86,
     "metadata": {},
     "output_type": "execute_result"
    },
    {
     "data": {
      "image/png": "[encoded data removed]",
      "text/plain": [
       "<Figure size 432x288 with 1 Axes>"
      ]
     },
     "metadata": {
      "needs_background": "light"
     },
     "output_type": "display_data"
    }
   ],
   "source": [
    "import matplotlib.pyplot as plt\n",
    "\n",
    "plt.title('Probability of at least two people with same birthday')\n",
    "plt.plot(x,y)\n",
    "plt.xlabel(\"Number of people in the room\")\n",
    "plt.ylabel(\"Probability\")"
   ]
  },
  {
   "cell_type": "code",
   "execution_count": null,
   "id": "d8199d6e",
   "metadata": {},
   "outputs": [],
   "source": []
  }
 ],
 "metadata": {
  "kernelspec": {
   "display_name": "Python 3 (ipykernel)",
   "language": "python",
   "name": "python3"
  },
  "language_info": {
   "codemirror_mode": {
    "name": "ipython",
    "version": 3
   },
   "file_extension": ".py",
   "mimetype": "text/x-python",
   "name": "python",
   "nbconvert_exporter": "python",
   "pygments_lexer": "ipython3",
   "version": "3.9.7"
  }
 },
 "nbformat": 4,
 "nbformat_minor": 5
}
