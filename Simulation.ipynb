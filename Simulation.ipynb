{
 "cells": [
  {
   "cell_type": "code",
   "execution_count": 1,
   "id": "35f192ea",
   "metadata": {},
   "outputs": [],
   "source": [
    "%matplotlib inline\n",
    "import numpy as np\n",
    "import pandas as pd\n",
    "\n",
    "np.random.seed(29)"
   ]
  },
  {
   "cell_type": "markdown",
   "id": "1f6d4db9",
   "metadata": {},
   "source": [
    "### 1) How likely is it that you roll doubles when rolling two dice?"
   ]
  },
  {
   "cell_type": "code",
   "execution_count": 32,
   "id": "5d225f21",
   "metadata": {},
   "outputs": [],
   "source": [
    "n_trials = nrows = 10**5\n",
    "n_dice = ncols = 2"
   ]
  },
  {
   "cell_type": "code",
   "execution_count": 33,
   "id": "6436ce17",
   "metadata": {},
   "outputs": [
    {
     "data": {
      "text/plain": [
       "array([[5, 1],\n",
       "       [3, 1],\n",
       "       [1, 6],\n",
       "       ...,\n",
       "       [1, 5],\n",
       "       [5, 3],\n",
       "       [5, 2]])"
      ]
     },
     "execution_count": 33,
     "metadata": {},
     "output_type": "execute_result"
    }
   ],
   "source": [
    "rolls = np.random.choice([1, 2, 3, 4, 5, 6], n_trials * n_dice).reshape(nrows, ncols)\n",
    "rolls"
   ]
  },
  {
   "cell_type": "code",
   "execution_count": 35,
   "id": "09ce0454",
   "metadata": {},
   "outputs": [],
   "source": [
    "#create a dataframe to get columns for rolls\n",
    "\n",
    "rolls = (pd.DataFrame(rolls))"
   ]
  },
  {
   "cell_type": "code",
   "execution_count": 36,
   "id": "c6fd5657",
   "metadata": {},
   "outputs": [
    {
     "data": {
      "text/html": [
       "<div>\n",
       "<style scoped>\n",
       "    .dataframe tbody tr th:only-of-type {\n",
       "        vertical-align: middle;\n",
       "    }\n",
       "\n",
       "    .dataframe tbody tr th {\n",
       "        vertical-align: top;\n",
       "    }\n",
       "\n",
       "    .dataframe thead th {\n",
       "        text-align: right;\n",
       "    }\n",
       "</style>\n",
       "<table border=\"1\" class=\"dataframe\">\n",
       "  <thead>\n",
       "    <tr style=\"text-align: right;\">\n",
       "      <th></th>\n",
       "      <th>0</th>\n",
       "      <th>1</th>\n",
       "    </tr>\n",
       "  </thead>\n",
       "  <tbody>\n",
       "    <tr>\n",
       "      <th>0</th>\n",
       "      <td>5</td>\n",
       "      <td>1</td>\n",
       "    </tr>\n",
       "    <tr>\n",
       "      <th>1</th>\n",
       "      <td>3</td>\n",
       "      <td>1</td>\n",
       "    </tr>\n",
       "    <tr>\n",
       "      <th>2</th>\n",
       "      <td>1</td>\n",
       "      <td>6</td>\n",
       "    </tr>\n",
       "    <tr>\n",
       "      <th>3</th>\n",
       "      <td>4</td>\n",
       "      <td>1</td>\n",
       "    </tr>\n",
       "    <tr>\n",
       "      <th>4</th>\n",
       "      <td>4</td>\n",
       "      <td>4</td>\n",
       "    </tr>\n",
       "  </tbody>\n",
       "</table>\n",
       "</div>"
      ],
      "text/plain": [
       "   0  1\n",
       "0  5  1\n",
       "1  3  1\n",
       "2  1  6\n",
       "3  4  1\n",
       "4  4  4"
      ]
     },
     "execution_count": 36,
     "metadata": {},
     "output_type": "execute_result"
    }
   ],
   "source": [
    "rolls.head()"
   ]
  },
  {
   "cell_type": "code",
   "execution_count": 37,
   "id": "bbd20534",
   "metadata": {},
   "outputs": [
    {
     "data": {
      "text/plain": [
       "RangeIndex(start=0, stop=2, step=1)"
      ]
     },
     "execution_count": 37,
     "metadata": {},
     "output_type": "execute_result"
    }
   ],
   "source": [
    "rolls.columns"
   ]
  },
  {
   "cell_type": "code",
   "execution_count": 38,
   "id": "ec3926cf",
   "metadata": {},
   "outputs": [],
   "source": [
    "#name the columns (roll vs roll2)\n",
    "rolls.columns = ['rolls1','rolls2']"
   ]
  },
  {
   "cell_type": "code",
   "execution_count": 39,
   "id": "1b916f86",
   "metadata": {},
   "outputs": [
    {
     "data": {
      "text/plain": [
       "Index(['rolls1', 'rolls2'], dtype='object')"
      ]
     },
     "execution_count": 39,
     "metadata": {},
     "output_type": "execute_result"
    }
   ],
   "source": [
    "rolls.columns"
   ]
  },
  {
   "cell_type": "code",
   "execution_count": 45,
   "id": "3c1ab3bc",
   "metadata": {},
   "outputs": [
    {
     "data": {
      "text/plain": [
       "0.16857"
      ]
     },
     "execution_count": 45,
     "metadata": {},
     "output_type": "execute_result"
    }
   ],
   "source": [
    "#find the average of doubles rolled\n",
    "(rolls.rolls1 == rolls.rolls2).mean()"
   ]
  },
  {
   "cell_type": "markdown",
   "id": "36a51afa",
   "metadata": {},
   "source": [
    "note: this makes sense as the probablity of two dice rolls being doubles as a 6:36 chance (6 sided dice X 6) and 0.16 = 1/6"
   ]
  },
  {
   "cell_type": "markdown",
   "id": "e32cb3df",
   "metadata": {},
   "source": [
    "### 2) If you flip 8 coins, what is the probability of getting exactly 3 heads? What is the probability of getting more than 3 heads?"
   ]
  },
  {
   "cell_type": "code",
   "execution_count": 137,
   "id": "6e295a1b",
   "metadata": {},
   "outputs": [],
   "source": [
    "n_trials = nrows = 10 **5\n",
    "n_dice = ncols = 8"
   ]
  },
  {
   "cell_type": "code",
   "execution_count": 138,
   "id": "a6d570db",
   "metadata": {},
   "outputs": [
    {
     "data": {
      "text/plain": [
       "array([[1, 0, 1, ..., 0, 1, 0],\n",
       "       [0, 0, 1, ..., 1, 1, 1],\n",
       "       [1, 1, 1, ..., 1, 0, 1],\n",
       "       ...,\n",
       "       [1, 0, 1, ..., 0, 1, 0],\n",
       "       [0, 0, 1, ..., 1, 0, 0],\n",
       "       [0, 1, 1, ..., 1, 0, 1]])"
      ]
     },
     "execution_count": 138,
     "metadata": {},
     "output_type": "execute_result"
    }
   ],
   "source": [
    "toss = np.random.choice([0, 1], n_trials * n_dice).reshape(nrows, ncols)\n",
    "toss"
   ]
  },
  {
   "cell_type": "code",
   "execution_count": 129,
   "id": "2b71c1f8",
   "metadata": {},
   "outputs": [
    {
     "data": {
      "text/plain": [
       "(100000, 8)"
      ]
     },
     "execution_count": 129,
     "metadata": {},
     "output_type": "execute_result"
    }
   ],
   "source": [
    "#create a dataframe to get columns for rolls\n",
    "\n",
    "coin_toss = (pd.DataFrame(toss))\n",
    "coin_toss.shape"
   ]
  },
  {
   "cell_type": "code",
   "execution_count": 130,
   "id": "d45601d8",
   "metadata": {},
   "outputs": [
    {
     "data": {
      "text/html": [
       "<div>\n",
       "<style scoped>\n",
       "    .dataframe tbody tr th:only-of-type {\n",
       "        vertical-align: middle;\n",
       "    }\n",
       "\n",
       "    .dataframe tbody tr th {\n",
       "        vertical-align: top;\n",
       "    }\n",
       "\n",
       "    .dataframe thead th {\n",
       "        text-align: right;\n",
       "    }\n",
       "</style>\n",
       "<table border=\"1\" class=\"dataframe\">\n",
       "  <thead>\n",
       "    <tr style=\"text-align: right;\">\n",
       "      <th></th>\n",
       "      <th>0</th>\n",
       "      <th>1</th>\n",
       "      <th>2</th>\n",
       "      <th>3</th>\n",
       "      <th>4</th>\n",
       "      <th>5</th>\n",
       "      <th>6</th>\n",
       "      <th>7</th>\n",
       "    </tr>\n",
       "  </thead>\n",
       "  <tbody>\n",
       "    <tr>\n",
       "      <th>0</th>\n",
       "      <td>0</td>\n",
       "      <td>0</td>\n",
       "      <td>0</td>\n",
       "      <td>1</td>\n",
       "      <td>0</td>\n",
       "      <td>0</td>\n",
       "      <td>1</td>\n",
       "      <td>0</td>\n",
       "    </tr>\n",
       "    <tr>\n",
       "      <th>1</th>\n",
       "      <td>1</td>\n",
       "      <td>1</td>\n",
       "      <td>1</td>\n",
       "      <td>0</td>\n",
       "      <td>0</td>\n",
       "      <td>0</td>\n",
       "      <td>1</td>\n",
       "      <td>0</td>\n",
       "    </tr>\n",
       "    <tr>\n",
       "      <th>2</th>\n",
       "      <td>0</td>\n",
       "      <td>0</td>\n",
       "      <td>0</td>\n",
       "      <td>0</td>\n",
       "      <td>1</td>\n",
       "      <td>0</td>\n",
       "      <td>1</td>\n",
       "      <td>0</td>\n",
       "    </tr>\n",
       "    <tr>\n",
       "      <th>3</th>\n",
       "      <td>1</td>\n",
       "      <td>0</td>\n",
       "      <td>1</td>\n",
       "      <td>0</td>\n",
       "      <td>1</td>\n",
       "      <td>1</td>\n",
       "      <td>1</td>\n",
       "      <td>1</td>\n",
       "    </tr>\n",
       "    <tr>\n",
       "      <th>4</th>\n",
       "      <td>0</td>\n",
       "      <td>1</td>\n",
       "      <td>0</td>\n",
       "      <td>0</td>\n",
       "      <td>1</td>\n",
       "      <td>1</td>\n",
       "      <td>1</td>\n",
       "      <td>1</td>\n",
       "    </tr>\n",
       "  </tbody>\n",
       "</table>\n",
       "</div>"
      ],
      "text/plain": [
       "   0  1  2  3  4  5  6  7\n",
       "0  0  0  0  1  0  0  1  0\n",
       "1  1  1  1  0  0  0  1  0\n",
       "2  0  0  0  0  1  0  1  0\n",
       "3  1  0  1  0  1  1  1  1\n",
       "4  0  1  0  0  1  1  1  1"
      ]
     },
     "execution_count": 130,
     "metadata": {},
     "output_type": "execute_result"
    }
   ],
   "source": [
    "coin_toss.head()"
   ]
  },
  {
   "cell_type": "code",
   "execution_count": 131,
   "id": "89512b8d",
   "metadata": {},
   "outputs": [
    {
     "data": {
      "text/plain": [
       "RangeIndex(start=0, stop=8, step=1)"
      ]
     },
     "execution_count": 131,
     "metadata": {},
     "output_type": "execute_result"
    }
   ],
   "source": [
    "coin_toss.columns"
   ]
  },
  {
   "cell_type": "code",
   "execution_count": 132,
   "id": "350a1ec2",
   "metadata": {},
   "outputs": [],
   "source": [
    "coin_toss.columns = ['t1','t2','t3','t4','t5','t6','t7','t8']"
   ]
  },
  {
   "cell_type": "code",
   "execution_count": 133,
   "id": "0a9ccb00",
   "metadata": {},
   "outputs": [
    {
     "data": {
      "text/plain": [
       "Index(['t1', 't2', 't3', 't4', 't5', 't6', 't7', 't8'], dtype='object')"
      ]
     },
     "execution_count": 133,
     "metadata": {},
     "output_type": "execute_result"
    }
   ],
   "source": [
    "coin_toss.columns"
   ]
  },
  {
   "cell_type": "code",
   "execution_count": 134,
   "id": "29ada01c",
   "metadata": {},
   "outputs": [
    {
     "data": {
      "text/plain": [
       "0        2\n",
       "1        4\n",
       "2        2\n",
       "3        6\n",
       "4        5\n",
       "        ..\n",
       "99995    2\n",
       "99996    5\n",
       "99997    3\n",
       "99998    7\n",
       "99999    5\n",
       "Length: 100000, dtype: int64"
      ]
     },
     "execution_count": 134,
     "metadata": {},
     "output_type": "execute_result"
    }
   ],
   "source": [
    "coin_toss.sum(axis=1) "
   ]
  },
  {
   "cell_type": "code",
   "execution_count": 135,
   "id": "302d5653",
   "metadata": {},
   "outputs": [
    {
     "data": {
      "text/plain": [
       "0        False\n",
       "1        False\n",
       "2        False\n",
       "3        False\n",
       "4        False\n",
       "         ...  \n",
       "99995    False\n",
       "99996    False\n",
       "99997     True\n",
       "99998    False\n",
       "99999    False\n",
       "Length: 100000, dtype: bool"
      ]
     },
     "execution_count": 135,
     "metadata": {},
     "output_type": "execute_result"
    }
   ],
   "source": [
    "coin_toss.sum(axis=1) == 3"
   ]
  },
  {
   "cell_type": "code",
   "execution_count": 136,
   "id": "324bf476",
   "metadata": {},
   "outputs": [
    {
     "data": {
      "text/plain": [
       "0.21768"
      ]
     },
     "execution_count": 136,
     "metadata": {},
     "output_type": "execute_result"
    }
   ],
   "source": [
    "(coin_toss.sum(axis=1) == 3).mean()"
   ]
  },
  {
   "cell_type": "markdown",
   "id": "6fcadb3d",
   "metadata": {},
   "source": [
    "#### ANSWER: a 0.22 probability rate"
   ]
  },
  {
   "cell_type": "code",
   "execution_count": 140,
   "id": "f9bd60b4",
   "metadata": {},
   "outputs": [],
   "source": [
    "### (toss.sum(axis=1) == 3).mean() note: IF I want an array, I could just run everything that is not part or or named the df and call as the array"
   ]
  },
  {
   "cell_type": "markdown",
   "id": "6215b4d2",
   "metadata": {},
   "source": [
    "### 3) There are approximitely 3 web development cohorts for every 1 data science cohort at Codeup. Assuming that Codeup randomly selects an alumni to put on a billboard, what are the odds that the two billboards I drive past both have data science students on them?"
   ]
  },
  {
   "cell_type": "code",
   "execution_count": 157,
   "id": "0612f77a",
   "metadata": {},
   "outputs": [],
   "source": [
    "ds_student = .25 #1 out of 4 total students is a DS student, so .25 rate\n",
    "\n",
    "nbillb = ncols = 2\n",
    "ntrials = nrows = 10**5"
   ]
  },
  {
   "cell_type": "code",
   "execution_count": 158,
   "id": "0a4da800",
   "metadata": {},
   "outputs": [
    {
     "data": {
      "text/plain": [
       "array([[0.86375999, 0.28490597],\n",
       "       [0.07325639, 0.7632372 ],\n",
       "       [0.45271906, 0.54229687],\n",
       "       ...,\n",
       "       [0.40357016, 0.05170649],\n",
       "       [0.45221073, 0.98827513],\n",
       "       [0.85694009, 0.66611331]])"
      ]
     },
     "execution_count": 158,
     "metadata": {},
     "output_type": "execute_result"
    }
   ],
   "source": [
    "data = np.random.random((nrows, ncols))\n",
    "data"
   ]
  },
  {
   "cell_type": "code",
   "execution_count": 159,
   "id": "edced70a",
   "metadata": {},
   "outputs": [
    {
     "data": {
      "text/plain": [
       "array([[False, False],\n",
       "       [ True, False],\n",
       "       [False, False],\n",
       "       ...,\n",
       "       [False,  True],\n",
       "       [False, False],\n",
       "       [False, False]])"
      ]
     },
     "execution_count": 159,
     "metadata": {},
     "output_type": "execute_result"
    }
   ],
   "source": [
    "ds_billboard = data <= ds_student\n",
    "ds_billboard"
   ]
  },
  {
   "cell_type": "code",
   "execution_count": 172,
   "id": "1b1487e7",
   "metadata": {},
   "outputs": [
    {
     "data": {
      "text/plain": [
       "array([False, False, False, ..., False, False, False])"
      ]
     },
     "execution_count": 172,
     "metadata": {},
     "output_type": "execute_result"
    }
   ],
   "source": [
    "ds_billboard.sum(axis=1)==2 #because True becomes 1 and False is 0, so in this case a True | True would == 2"
   ]
  },
  {
   "cell_type": "code",
   "execution_count": 171,
   "id": "9df2ccd0",
   "metadata": {},
   "outputs": [
    {
     "data": {
      "text/plain": [
       "0.06336"
      ]
     },
     "execution_count": 171,
     "metadata": {},
     "output_type": "execute_result"
    }
   ],
   "source": [
    "(ds_billboard.sum(axis=1)==2).mean()"
   ]
  },
  {
   "cell_type": "markdown",
   "id": "9f8bb2dd",
   "metadata": {},
   "source": [
    "#### ANSWER: a probablity of 0.06"
   ]
  },
  {
   "cell_type": "code",
   "execution_count": null,
   "id": "5e2e6ffc",
   "metadata": {},
   "outputs": [],
   "source": []
  },
  {
   "cell_type": "markdown",
   "id": "dae6d74f",
   "metadata": {},
   "source": [
    "### 4) Codeup students buy, on average, 3 poptart packages with a standard deviation of 1.5 a day from the snack vending machine. If on monday the machine is restocked with 17 poptart packages, how likely is it that I will be able to buy some poptarts on Friday afternoon? (Remember, if you have mean and standard deviation, use the np.random.normal)"
   ]
  },
  {
   "cell_type": "code",
   "execution_count": 24,
   "id": "df965526",
   "metadata": {},
   "outputs": [],
   "source": [
    "avg_tarts=3\n",
    "\n",
    "days = ncols = 5\n",
    "ntrials = nrows = 10**5"
   ]
  },
  {
   "cell_type": "code",
   "execution_count": 25,
   "id": "17cdc4a1",
   "metadata": {},
   "outputs": [
    {
     "data": {
      "text/plain": [
       "array([[1.81206924, 4.92911661, 0.64680433, 4.96424919, 4.10878061],\n",
       "       [1.49627406, 5.68750838, 3.33157082, 1.12786178, 6.76389712],\n",
       "       [1.17593549, 2.40859248, 4.44860049, 3.6790932 , 6.3232411 ],\n",
       "       ...,\n",
       "       [2.16965061, 2.54280374, 4.69472573, 4.12449194, 3.27620942],\n",
       "       [3.14927339, 1.25432179, 4.1988665 , 2.55448806, 2.3730019 ],\n",
       "       [1.72718769, 0.20550175, 5.5258083 , 3.70090915, 4.19968801]])"
      ]
     },
     "execution_count": 25,
     "metadata": {},
     "output_type": "execute_result"
    }
   ],
   "source": [
    "###Question: can we round these numbers to a whole?\n",
    "poptarts = np.random.normal(3, 1.5,(nrows, ncols))\n",
    "poptarts"
   ]
  },
  {
   "cell_type": "code",
   "execution_count": 56,
   "id": "e506840f",
   "metadata": {},
   "outputs": [
    {
     "data": {
      "text/plain": [
       "0.72382"
      ]
     },
     "execution_count": 56,
     "metadata": {},
     "output_type": "execute_result"
    }
   ],
   "source": [
    "(poptarts.sum(axis=1) < 17).mean()\n",
    "\n"
   ]
  },
  {
   "cell_type": "markdown",
   "id": "b67c61d6",
   "metadata": {},
   "source": [
    "#### ANSWER: 0.72 probability"
   ]
  },
  {
   "cell_type": "code",
   "execution_count": null,
   "id": "8b08bb43",
   "metadata": {},
   "outputs": [],
   "source": []
  },
  {
   "cell_type": "markdown",
   "id": "3bd2bc20",
   "metadata": {},
   "source": [
    "### 5) Compare Heights"
   ]
  },
  {
   "cell_type": "markdown",
   "id": "c254cdbd",
   "metadata": {},
   "source": [
    "- Men have an average height of 178 cm and standard deviation of 8cm.\n",
    "- Women have a mean of 170, sd = 6cm.\n",
    "\n",
    "Since you have means and standard deviations, you can use np.random.normal to generate observations.\n",
    "\n",
    "If a man and woman are chosen at random, what is the likelihood the woman is taller than the man?"
   ]
  },
  {
   "cell_type": "code",
   "execution_count": 61,
   "id": "bb9984f5",
   "metadata": {},
   "outputs": [
    {
     "data": {
      "text/plain": [
       "array([[ -0.5011673 ],\n",
       "       [-13.73724213],\n",
       "       [ 12.86757683],\n",
       "       ...,\n",
       "       [  0.37775522],\n",
       "       [ -1.33598659],\n",
       "       [ -0.65480382]])"
      ]
     },
     "execution_count": 61,
     "metadata": {},
     "output_type": "execute_result"
    }
   ],
   "source": [
    "mavg_height = 178\n",
    "\n",
    "chosen1 = ncols = 1\n",
    "ntrials = nrows = 10**5\n",
    "\n",
    "guy_heights = np.random.normal(1, 8,(nrows, ncols))\n",
    "guy_heights"
   ]
  },
  {
   "cell_type": "code",
   "execution_count": 62,
   "id": "0047c678",
   "metadata": {},
   "outputs": [
    {
     "data": {
      "text/plain": [
       "array([[ 0.75339422],\n",
       "       [ 5.54487193],\n",
       "       [-2.49414235],\n",
       "       ...,\n",
       "       [ 1.41238484],\n",
       "       [ 0.81821118],\n",
       "       [-8.65894083]])"
      ]
     },
     "execution_count": 62,
     "metadata": {},
     "output_type": "execute_result"
    }
   ],
   "source": [
    "wavg_height = 170\n",
    "\n",
    "chosen1 = ncols = 1\n",
    "ntrials = nrows = 10**5\n",
    "\n",
    "girl_heights = np.random.normal(1, 6,(nrows, ncols))\n",
    "girl_heights"
   ]
  },
  {
   "cell_type": "code",
   "execution_count": null,
   "id": "66a1b7c5",
   "metadata": {},
   "outputs": [],
   "source": []
  }
 ],
 "metadata": {
  "kernelspec": {
   "display_name": "Python 3 (ipykernel)",
   "language": "python",
   "name": "python3"
  },
  "language_info": {
   "codemirror_mode": {
    "name": "ipython",
    "version": 3
   },
   "file_extension": ".py",
   "mimetype": "text/x-python",
   "name": "python",
   "nbconvert_exporter": "python",
   "pygments_lexer": "ipython3",
   "version": "3.9.7"
  }
 },
 "nbformat": 4,
 "nbformat_minor": 5
}
