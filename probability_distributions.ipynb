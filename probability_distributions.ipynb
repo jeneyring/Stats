{
 "cells": [
  {
   "cell_type": "code",
   "execution_count": 2,
   "id": "118d805f",
   "metadata": {},
   "outputs": [],
   "source": [
    "import matplotlib.pyplot as plt\n",
    "import numpy as np\n",
    "from scipy import stats\n",
    "import viz # curriculum viz example code\n",
    "\n",
    "np.random.seed(123)"
   ]
  },
  {
   "cell_type": "markdown",
   "id": "7122a611",
   "metadata": {},
   "source": [
    "### Exercise 1:\n",
    "\n",
    "A bank found that the average number of cars waiting during the noon hour at a drive-up window follows a Poisson distribution with a mean of 2 cars. Make a chart of this distribution and answer these questions concerning the probability of cars waiting at the drive-up window.\n",
    "\n",
    "-What is the probability that no cars drive up in the noon hour?\n",
    "\n",
    "-What is the probability that 3 or more cars come through the drive through?\n",
    "\n",
    "-How likely is it that the drive through gets at least 1 car?"
   ]
  },
  {
   "cell_type": "code",
   "execution_count": 3,
   "id": "3ca86ed4",
   "metadata": {},
   "outputs": [
    {
     "data": {
      "text/plain": [
       "0.1353352832366127"
      ]
     },
     "execution_count": 3,
     "metadata": {},
     "output_type": "execute_result"
    }
   ],
   "source": [
    "## Probability of No cars showing\n",
    "stats.poisson(2).pmf(0)"
   ]
  },
  {
   "cell_type": "code",
   "execution_count": 4,
   "id": "3610db7b",
   "metadata": {},
   "outputs": [
    {
     "data": {
      "text/plain": [
       "0.32332358381693654"
      ]
     },
     "execution_count": 4,
     "metadata": {},
     "output_type": "execute_result"
    }
   ],
   "source": [
    "## Probability of 3 or more cars going through drive through\n",
    "stats.poisson(2).sf(2)"
   ]
  },
  {
   "cell_type": "code",
   "execution_count": 6,
   "id": "57954bba",
   "metadata": {},
   "outputs": [
    {
     "data": {
      "text/plain": [
       "0.2706705664732254"
      ]
     },
     "execution_count": 6,
     "metadata": {},
     "output_type": "execute_result"
    }
   ],
   "source": [
    "## Probability of at least one car\n",
    "stats.poisson(2).pmf(1)"
   ]
  },
  {
   "cell_type": "markdown",
   "id": "a644b063",
   "metadata": {},
   "source": [
    "### Exercise 2:\n",
    "Grades of State University graduates are normally distributed with a mean of 3.0 and a standard deviation of .3. Calculate the following:\n",
    "\n",
    "- What grade point average is required to be in the top 5% of the graduating class?\n",
    "\n",
    "- What GPA constitutes the bottom 15% of the class?\n",
    "\n",
    "- An eccentric alumnus left scholarship money for students in the third decile from the bottom of their class. Determine the range of the third decile. Would a student with a 2.8 grade point average qualify for this scholarship?\n",
    "\n",
    "- If I have a GPA of 3.5, what percentile am I in?"
   ]
  },
  {
   "cell_type": "code",
   "execution_count": 7,
   "id": "05d1f4b6",
   "metadata": {},
   "outputs": [],
   "source": [
    "## setting up a normal distribution object to use:\n",
    "GPA= stats.norm(3.0, .3)"
   ]
  },
  {
   "cell_type": "code",
   "execution_count": 8,
   "id": "0e777e81",
   "metadata": {},
   "outputs": [
    {
     "data": {
      "text/plain": [
       "3.4934560880854417"
      ]
     },
     "execution_count": 8,
     "metadata": {},
     "output_type": "execute_result"
    }
   ],
   "source": [
    "## GPA of top 5% graduating class:\n",
    "GPA.isf(.05)"
   ]
  },
  {
   "cell_type": "code",
   "execution_count": 11,
   "id": "9655456e",
   "metadata": {},
   "outputs": [
    {
     "data": {
      "text/plain": [
       "2.689069983151863"
      ]
     },
     "execution_count": 11,
     "metadata": {},
     "output_type": "execute_result"
    }
   ],
   "source": [
    "## GPA of bottom 15%\n",
    "GPA.isf(.85)"
   ]
  },
  {
   "cell_type": "code",
   "execution_count": 19,
   "id": "185764b5",
   "metadata": {},
   "outputs": [
    {
     "data": {
      "text/plain": [
       "2.689069983151863"
      ]
     },
     "execution_count": 19,
     "metadata": {},
     "output_type": "execute_result"
    }
   ],
   "source": [
    "GPA.ppf(.15) #ppf...inversion of cdf"
   ]
  },
  {
   "cell_type": "code",
   "execution_count": 21,
   "id": "80375359",
   "metadata": {},
   "outputs": [
    {
     "data": {
      "text/plain": [
       "2.842679846187588"
      ]
     },
     "execution_count": 21,
     "metadata": {},
     "output_type": "execute_result"
    }
   ],
   "source": [
    "## Third decile from bottom range: (finding the value of random variables at .2-.3)\n",
    "#Q3= np.quantile(, 0.75)\n",
    "GPA.isf(.7)"
   ]
  },
  {
   "cell_type": "code",
   "execution_count": 20,
   "id": "bc374ab4",
   "metadata": {},
   "outputs": [
    {
     "data": {
      "text/plain": [
       "2.842679846187588"
      ]
     },
     "execution_count": 20,
     "metadata": {},
     "output_type": "execute_result"
    }
   ],
   "source": [
    "GPA.ppf(.3)"
   ]
  },
  {
   "cell_type": "code",
   "execution_count": 16,
   "id": "9d296fa8",
   "metadata": {},
   "outputs": [],
   "source": [
    "## Yes, a student with a GPA of 2.8 would qualify"
   ]
  },
  {
   "cell_type": "code",
   "execution_count": 23,
   "id": "ba6517e0",
   "metadata": {},
   "outputs": [
    {
     "data": {
      "text/plain": [
       "0.9522096477271853"
      ]
     },
     "execution_count": 23,
     "metadata": {},
     "output_type": "execute_result"
    }
   ],
   "source": [
    "## If I have a GPA of 3.5, I'd be in the 95th percentile\n",
    "GPA.cdf(3.5)\n",
    "\n",
    "## NOTES: percentile is starting from the 0 or lowest range value (left-side)\n",
    "## we use cdf when we DO know the random variable ( in this case 3.5 gpa)\n",
    "## if it was an unknown variable, we could use isf"
   ]
  },
  {
   "cell_type": "markdown",
   "id": "0485acb6",
   "metadata": {},
   "source": [
    "### Exercise 3)\n",
    "A marketing website has an average click-through rate of 2%. One day they observe 4326 visitors and 97 click-throughs.\n",
    "\n",
    "- How likely is it that this many people or more click through?"
   ]
  },
  {
   "cell_type": "code",
   "execution_count": 30,
   "id": "92bdbb1f",
   "metadata": {},
   "outputs": [],
   "source": [
    "n_trials = 4326\n",
    "p = .02\n",
    "combo = n_trials * p\n",
    "actual_ct = 97\n",
    "\n",
    "click_throughs = stats.poisson(combo)"
   ]
  },
  {
   "cell_type": "code",
   "execution_count": 31,
   "id": "7c7bdd17",
   "metadata": {},
   "outputs": [
    {
     "data": {
      "text/plain": [
       "0.14211867659283192"
      ]
     },
     "execution_count": 31,
     "metadata": {},
     "output_type": "execute_result"
    }
   ],
   "source": [
    "#How likely is it that 97 or more will click through?\n",
    "#website is continuous...\n",
    "\n",
    "click_throughs.sf(actual_ct -1)"
   ]
  },
  {
   "cell_type": "markdown",
   "id": "bdcc6437",
   "metadata": {},
   "source": [
    "### Exercise 4)\n",
    "You are working on some statistics homework consisting of 100 questions where all of the answers are a probability rounded to the hundredths place. Looking to save time, you put down random probabilities as the answer to each question.\n",
    "\n",
    "- What is the probability that at least one of your first 60 answers is correct?"
   ]
  },
  {
   "cell_type": "code",
   "execution_count": 50,
   "id": "beed36ea",
   "metadata": {},
   "outputs": [
    {
     "data": {
      "text/plain": [
       "0.45284335760923855"
      ]
     },
     "execution_count": 50,
     "metadata": {},
     "output_type": "execute_result"
    }
   ],
   "source": [
    "p =0.01 #(probability of success AND getting answers to rounded hundreths)\n",
    "first_sixty=60\n",
    "\n",
    "correct_p=stats.binom(first_sixty, p)\n",
    "\n",
    "correct_p.sf(0)"
   ]
  },
  {
   "cell_type": "markdown",
   "id": "1501dc0b",
   "metadata": {},
   "source": [
    "### Exercise 5)\n",
    "The codeup staff tends to get upset when the student break area is not cleaned up. \n",
    "Suppose that there's a 3% chance that any one student cleans the break area when they visit it, and, on any given day, about 90% of the 3 active cohorts of 22 students visit the break area. \n",
    "\n",
    "- How likely is it that the break area gets cleaned up each day? \n",
    "\n",
    "- How likely is it that it goes two days without getting cleaned up? \n",
    "\n",
    "- All week?"
   ]
  },
  {
   "cell_type": "code",
   "execution_count": 98,
   "id": "49d83798",
   "metadata": {},
   "outputs": [],
   "source": [
    "p = 0.03\n",
    "attending_students = .9 * (22 * 3)\n",
    "\n",
    "who_will_clean = stats.binom(attending_students,p)"
   ]
  },
  {
   "cell_type": "code",
   "execution_count": 99,
   "id": "885e7528",
   "metadata": {},
   "outputs": [
    {
     "data": {
      "text/plain": [
       "0.8362274861228872"
      ]
     },
     "execution_count": 99,
     "metadata": {},
     "output_type": "execute_result"
    }
   ],
   "source": [
    "## Likelihood of a cleaned breakroom each day:\n",
    "who_will_clean.sf(0)"
   ]
  },
  {
   "cell_type": "code",
   "execution_count": 100,
   "id": "d593ec5f",
   "metadata": {},
   "outputs": [
    {
     "data": {
      "text/plain": [
       "0.026821436301629097"
      ]
     },
     "execution_count": 100,
     "metadata": {},
     "output_type": "execute_result"
    }
   ],
   "source": [
    "##Likelihood of not getting cleaned two days in a row\n",
    "two_days_mess=stats.binom(attending_students * 2, p)\n",
    "two_days_mess.cdf(0)"
   ]
  },
  {
   "cell_type": "code",
   "execution_count": 101,
   "id": "6692834b",
   "metadata": {},
   "outputs": [
    {
     "data": {
      "text/plain": [
       "0.00011781621791055166"
      ]
     },
     "execution_count": 101,
     "metadata": {},
     "output_type": "execute_result"
    }
   ],
   "source": [
    "## What is the likelihood of not getting cleaned all week?\n",
    "weeks_mess = stats.binom(attending_students * 5, p)\n",
    "weeks_mess.cdf(0)"
   ]
  },
  {
   "cell_type": "markdown",
   "id": "e4a769bd",
   "metadata": {},
   "source": [
    "### Exercise 6)\n",
    "You want to get lunch at La Panaderia, but notice that the line is usually very long at lunchtime. \n",
    "\n",
    "After several weeks of careful observation, you notice that the average number of people in line when your lunch break starts is normally distributed with a <b> mean of 15 </b> and <b> standard deviation of 3</b>. \n",
    "\n",
    "If it takes<b> 2 minutes</b> for each person to order, and <b>10 minutes from ordering to getting your food</b>, \n",
    "- what is the likelihood that you have at least 15 minutes left to eat your food before you have to go back to class?\n",
    "- (Assume you have one hour for lunch, and ignore travel time to and from La Panaderia.)"
   ]
  },
  {
   "cell_type": "code",
   "execution_count": 112,
   "id": "d98a4ebf",
   "metadata": {},
   "outputs": [],
   "source": [
    "#what is random variable?\n",
    "#x= lunchline\n",
    "\n",
    "#parameters of normal dist of how many people in line\n",
    "mean = 15\n",
    "std = 3\n",
    "\n",
    "ordertime = 2\n",
    "\n",
    "lunchline = stats.norm(mean,std)"
   ]
  },
  {
   "cell_type": "code",
   "execution_count": 114,
   "id": "a6f380ba",
   "metadata": {},
   "outputs": [
    {
     "data": {
      "text/plain": [
       "0.5"
      ]
     },
     "execution_count": 114,
     "metadata": {},
     "output_type": "execute_result"
    }
   ],
   "source": [
    "## Likelihood of having 15min left to eat\n",
    "lunchline.cdf(15)"
   ]
  },
  {
   "cell_type": "markdown",
   "id": "4804d467",
   "metadata": {},
   "source": [
    "### Exercise 7)\n",
    "Connect to the employees database and find the average salary of current employees, along with the standard deviation.\n",
    "\n",
    "For the following questions, calculate the answer based on modeling the employees salaries with a normal distribution defined by the calculated mean and standard deviation then compare this answer to the actual values present in the salaries dataset."
   ]
  },
  {
   "cell_type": "code",
   "execution_count": 117,
   "id": "d175029e",
   "metadata": {},
   "outputs": [
    {
     "ename": "ModuleNotFoundError",
     "evalue": "No module named 'mysql'",
     "output_type": "error",
     "traceback": [
      "\u001b[0;31m---------------------------------------------------------------------------\u001b[0m",
      "\u001b[0;31mModuleNotFoundError\u001b[0m                       Traceback (most recent call last)",
      "\u001b[0;32m/var/folders/d3/11nygz6126ndxvtrp12687680000gn/T/ipykernel_45547/2994992122.py\u001b[0m in \u001b[0;36m<module>\u001b[0;34m\u001b[0m\n\u001b[0;32m----> 1\u001b[0;31m \u001b[0;32mfrom\u001b[0m \u001b[0mmysql\u001b[0m \u001b[0;32mimport\u001b[0m \u001b[0memployees\u001b[0m\u001b[0;34m\u001b[0m\u001b[0;34m\u001b[0m\u001b[0m\n\u001b[0m",
      "\u001b[0;31mModuleNotFoundError\u001b[0m: No module named 'mysql'"
     ]
    }
   ],
   "source": []
  },
  {
   "cell_type": "code",
   "execution_count": null,
   "id": "691f943a",
   "metadata": {},
   "outputs": [],
   "source": []
  }
 ],
 "metadata": {
  "kernelspec": {
   "display_name": "Python 3 (ipykernel)",
   "language": "python",
   "name": "python3"
  },
  "language_info": {
   "codemirror_mode": {
    "name": "ipython",
    "version": 3
   },
   "file_extension": ".py",
   "mimetype": "text/x-python",
   "name": "python",
   "nbconvert_exporter": "python",
   "pygments_lexer": "ipython3",
   "version": "3.9.7"
  }
 },
 "nbformat": 4,
 "nbformat_minor": 5
}
